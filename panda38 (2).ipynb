{
 "cells": [
  {
   "cell_type": "code",
   "execution_count": 1,
   "id": "9e04dbe0-bd30-441e-a6ba-38f7cfa106ee",
   "metadata": {},
   "outputs": [
    {
     "name": "stdout",
     "output_type": "stream",
     "text": [
      "Requirement already satisfied: pandas in c:\\users\\rajp6\\anaconda3\\lib\\site-packages (2.2.2)\n",
      "Requirement already satisfied: numpy>=1.26.0 in c:\\users\\rajp6\\anaconda3\\lib\\site-packages (from pandas) (1.26.4)\n",
      "Requirement already satisfied: python-dateutil>=2.8.2 in c:\\users\\rajp6\\anaconda3\\lib\\site-packages (from pandas) (2.9.0.post0)\n",
      "Requirement already satisfied: pytz>=2020.1 in c:\\users\\rajp6\\anaconda3\\lib\\site-packages (from pandas) (2024.1)\n",
      "Requirement already satisfied: tzdata>=2022.7 in c:\\users\\rajp6\\anaconda3\\lib\\site-packages (from pandas) (2023.3)\n",
      "Requirement already satisfied: six>=1.5 in c:\\users\\rajp6\\anaconda3\\lib\\site-packages (from python-dateutil>=2.8.2->pandas) (1.16.0)\n"
     ]
    }
   ],
   "source": [
    "!pip install pandas"
   ]
  },
  {
   "cell_type": "code",
   "execution_count": 7,
   "id": "6a9e7a32-ffcb-4139-b387-97160989e2d4",
   "metadata": {},
   "outputs": [
    {
     "name": "stdout",
     "output_type": "stream",
     "text": [
      "0    10\n",
      "1    20\n",
      "2    30\n",
      "dtype: int64\n"
     ]
    }
   ],
   "source": [
    "import pandas as pd\n",
    "series1 = pd.Series([10,20,30])\n",
    "print(series1)"
   ]
  },
  {
   "cell_type": "code",
   "execution_count": 17,
   "id": "d44bfd52-7f06-4e75-aa17-0e47d772e2a5",
   "metadata": {},
   "outputs": [
    {
     "name": "stdout",
     "output_type": "stream",
     "text": [
      "3     kavi\n",
      "5    shyam\n",
      "1     ravi\n",
      "dtype: object\n"
     ]
    }
   ],
   "source": [
    "series2 = pd.Series((['kavi','shyam','ravi']),index =[3,5,1])\n",
    "print(series2)"
   ]
  },
  {
   "cell_type": "code",
   "execution_count": 3,
   "id": "e5eb46da-32ab-43c0-bcdf-d80c7c6debc7",
   "metadata": {},
   "outputs": [
    {
     "name": "stdout",
     "output_type": "stream",
     "text": [
      "0    1\n",
      "1    2\n",
      "2    3\n",
      "3    4\n",
      "dtype: int32\n"
     ]
    }
   ],
   "source": [
    "import numpy as np\n",
    "import pandas as pd\n",
    "array1 = np.array([1,2,3,4])\n",
    "series3 = pd.Series(array1)\n",
    "print(series3)"
   ]
  },
  {
   "cell_type": "code",
   "execution_count": 21,
   "id": "a6d07ca9-3bc2-433a-b541-461b5d747a58",
   "metadata": {},
   "outputs": [
    {
     "name": "stdout",
     "output_type": "stream",
     "text": [
      "jan    1\n",
      "feb    2\n",
      "mar    3\n",
      "apr    4\n",
      "dtype: int32\n"
     ]
    }
   ],
   "source": [
    "series4 = pd.Series(array1,index=['jan','feb','mar','apr'])\n",
    "print(series4)"
   ]
  },
  {
   "cell_type": "code",
   "execution_count": 23,
   "id": "e4e13b3a-0f01-48df-b045-79c7e8a33e58",
   "metadata": {},
   "outputs": [
    {
     "name": "stdout",
     "output_type": "stream",
     "text": [
      "{'india': 'newdelhi', 'uk': 'london', 'japan': 'tokyo'}\n"
     ]
    }
   ],
   "source": [
    "dict1 = {'india': 'newdelhi','uk':\n",
    "         'london','japan':'tokyo'}\n",
    "print(dict1)"
   ]
  },
  {
   "cell_type": "code",
   "execution_count": 25,
   "id": "3c2217d0-2caf-48da-b8a5-913322669bc9",
   "metadata": {},
   "outputs": [
    {
     "name": "stdout",
     "output_type": "stream",
     "text": [
      "india    newdelhi\n",
      "uk         london\n",
      "japan       tokyo\n",
      "dtype: object\n"
     ]
    }
   ],
   "source": [
    "series8 = pd.Series(dict1)\n",
    "print(series8)"
   ]
  },
  {
   "cell_type": "code",
   "execution_count": 29,
   "id": "f5c86ff3-05ff-4d4c-b3ae-8b45bba87098",
   "metadata": {},
   "outputs": [
    {
     "data": {
      "text/plain": [
       "3"
      ]
     },
     "execution_count": 29,
     "metadata": {},
     "output_type": "execute_result"
    }
   ],
   "source": [
    "seriesmnths = pd.Series([2,3,4],index = ['feb','mar','apr'])\n",
    "seriesmnths['mar']"
   ]
  },
  {
   "cell_type": "code",
   "execution_count": 31,
   "id": "f52c7fdf-95b6-4341-9f5a-548d3ad78553",
   "metadata": {},
   "outputs": [
    {
     "data": {
      "text/plain": [
       "india         newdeldi\n",
       "usa       washingtondc\n",
       "uk              london\n",
       "france           paris\n",
       "dtype: object"
      ]
     },
     "execution_count": 31,
     "metadata": {},
     "output_type": "execute_result"
    }
   ],
   "source": [
    "seriescapcou = pd.Series(['newdeldi','washingtondc','london','paris'],index=['india','usa','uk','france'])\n",
    "seriescapcou"
   ]
  },
  {
   "cell_type": "code",
   "execution_count": 33,
   "id": "79bcd290-ca7e-4aa7-a21c-7a821c464e72",
   "metadata": {},
   "outputs": [
    {
     "data": {
      "text/plain": [
       "usa    washingtondc\n",
       "uk           london\n",
       "dtype: object"
      ]
     },
     "execution_count": 33,
     "metadata": {},
     "output_type": "execute_result"
    }
   ],
   "source": [
    "seriescapcou[1:3]"
   ]
  },
  {
   "cell_type": "code",
   "execution_count": 3,
   "id": "af32f5b7-4244-4741-8461-c0da2e9b10d3",
   "metadata": {},
   "outputs": [
    {
     "name": "stdout",
     "output_type": "stream",
     "text": [
      "0    10\n",
      "1    11\n",
      "2    12\n",
      "3    13\n",
      "4    14\n",
      "5    15\n",
      "6    16\n",
      "7    17\n",
      "8    18\n",
      "9    19\n",
      "dtype: int32\n"
     ]
    }
   ],
   "source": [
    "#method of series\n",
    "import numpy as np\n",
    "import pandas as pd\n",
    "seriesTenTwenty=pd.Series(np.arange(10,20,1))\n",
    "print(seriesTenTwenty)"
   ]
  },
  {
   "cell_type": "code",
   "execution_count": 11,
   "id": "fc532ce9-221c-44e4-abc3-6a309483d28b",
   "metadata": {},
   "outputs": [
    {
     "data": {
      "text/plain": [
       "0    10\n",
       "1    11\n",
       "dtype: int32"
      ]
     },
     "execution_count": 11,
     "metadata": {},
     "output_type": "execute_result"
    }
   ],
   "source": [
    "seriesTenTwenty.head(2)"
   ]
  },
  {
   "cell_type": "code",
   "execution_count": 13,
   "id": "c6bc0b2e-c471-4d4b-923d-b7fcf14ae174",
   "metadata": {},
   "outputs": [
    {
     "data": {
      "text/plain": [
       "10"
      ]
     },
     "execution_count": 13,
     "metadata": {},
     "output_type": "execute_result"
    }
   ],
   "source": [
    "seriesTenTwenty.count()"
   ]
  },
  {
   "cell_type": "code",
   "execution_count": 15,
   "id": "6993ec6f-c0c6-4353-ac6f-c41d4f799063",
   "metadata": {},
   "outputs": [
    {
     "data": {
      "text/plain": [
       "8    18\n",
       "9    19\n",
       "dtype: int32"
      ]
     },
     "execution_count": 15,
     "metadata": {},
     "output_type": "execute_result"
    }
   ],
   "source": [
    "seriesTenTwenty.tail(2)"
   ]
  },
  {
   "cell_type": "code",
   "execution_count": 17,
   "id": "9cc08cde-3383-40be-b57e-f1526e7588cf",
   "metadata": {},
   "outputs": [
    {
     "data": {
      "text/plain": [
       "a    1\n",
       "b    2\n",
       "c    3\n",
       "d    4\n",
       "e    5\n",
       "dtype: int64"
      ]
     },
     "execution_count": 17,
     "metadata": {},
     "output_type": "execute_result"
    }
   ],
   "source": [
    "seriesA =pd.Series([1,2,3,4,5],index = ['a','b','c','d','e'])\n",
    "seriesA                                     "
   ]
  },
  {
   "cell_type": "code",
   "execution_count": 19,
   "id": "ea82db48-1693-4d1f-af4a-8cb7f585902b",
   "metadata": {},
   "outputs": [
    {
     "data": {
      "text/plain": [
       "z     10\n",
       "y     20\n",
       "a    -10\n",
       "c    -50\n",
       "e   -100\n",
       "dtype: int64"
      ]
     },
     "execution_count": 19,
     "metadata": {},
     "output_type": "execute_result"
    }
   ],
   "source": [
    "seriesB = pd.Series([10,20,-10,-50,-100],\n",
    "index = ['z','y','a','c','e'])\n",
    "seriesB"
   ]
  },
  {
   "cell_type": "code",
   "execution_count": 21,
   "id": "ca673a21-b8e6-49b3-a80c-55d1329d867b",
   "metadata": {},
   "outputs": [
    {
     "data": {
      "text/plain": [
       "a    -9.0\n",
       "b     NaN\n",
       "c   -47.0\n",
       "d     NaN\n",
       "e   -95.0\n",
       "y     NaN\n",
       "z     NaN\n",
       "dtype: float64"
      ]
     },
     "execution_count": 21,
     "metadata": {},
     "output_type": "execute_result"
    }
   ],
   "source": [
    "seriesA + seriesB"
   ]
  },
  {
   "cell_type": "code",
   "execution_count": 25,
   "id": "90e64238-404f-4ddb-843c-ed96efeaa22c",
   "metadata": {},
   "outputs": [
    {
     "data": {
      "text/html": [
       "<div>\n",
       "<style scoped>\n",
       "    .dataframe tbody tr th:only-of-type {\n",
       "        vertical-align: middle;\n",
       "    }\n",
       "\n",
       "    .dataframe tbody tr th {\n",
       "        vertical-align: top;\n",
       "    }\n",
       "\n",
       "    .dataframe thead th {\n",
       "        text-align: right;\n",
       "    }\n",
       "</style>\n",
       "<table border=\"1\" class=\"dataframe\">\n",
       "  <thead>\n",
       "    <tr style=\"text-align: right;\">\n",
       "      <th></th>\n",
       "      <th>0</th>\n",
       "    </tr>\n",
       "  </thead>\n",
       "  <tbody>\n",
       "    <tr>\n",
       "      <th>0</th>\n",
       "      <td>10</td>\n",
       "    </tr>\n",
       "    <tr>\n",
       "      <th>1</th>\n",
       "      <td>20</td>\n",
       "    </tr>\n",
       "    <tr>\n",
       "      <th>2</th>\n",
       "      <td>30</td>\n",
       "    </tr>\n",
       "  </tbody>\n",
       "</table>\n",
       "</div>"
      ],
      "text/plain": [
       "    0\n",
       "0  10\n",
       "1  20\n",
       "2  30"
      ]
     },
     "execution_count": 25,
     "metadata": {},
     "output_type": "execute_result"
    }
   ],
   "source": [
    "array1 = np.array([10,20,30])\n",
    "array2 = np.array([100,200,300])\n",
    "array3 = np.array([-10,-20,-30,-40])\n",
    "dFrame4 = pd.DataFrame(array1)\n",
    "dFrame4"
   ]
  },
  {
   "cell_type": "code",
   "execution_count": 29,
   "id": "8da35ab2-992b-4af8-840c-a583533254ee",
   "metadata": {},
   "outputs": [
    {
     "data": {
      "text/html": [
       "<div>\n",
       "<style scoped>\n",
       "    .dataframe tbody tr th:only-of-type {\n",
       "        vertical-align: middle;\n",
       "    }\n",
       "\n",
       "    .dataframe tbody tr th {\n",
       "        vertical-align: top;\n",
       "    }\n",
       "\n",
       "    .dataframe thead th {\n",
       "        text-align: right;\n",
       "    }\n",
       "</style>\n",
       "<table border=\"1\" class=\"dataframe\">\n",
       "  <thead>\n",
       "    <tr style=\"text-align: right;\">\n",
       "      <th></th>\n",
       "      <th>a</th>\n",
       "      <th>b</th>\n",
       "      <th>c</th>\n",
       "    </tr>\n",
       "  </thead>\n",
       "  <tbody>\n",
       "    <tr>\n",
       "      <th>0</th>\n",
       "      <td>10</td>\n",
       "      <td>20</td>\n",
       "      <td>NaN</td>\n",
       "    </tr>\n",
       "    <tr>\n",
       "      <th>1</th>\n",
       "      <td>5</td>\n",
       "      <td>10</td>\n",
       "      <td>20.0</td>\n",
       "    </tr>\n",
       "  </tbody>\n",
       "</table>\n",
       "</div>"
      ],
      "text/plain": [
       "    a   b     c\n",
       "0  10  20   NaN\n",
       "1   5  10  20.0"
      ]
     },
     "execution_count": 29,
     "metadata": {},
     "output_type": "execute_result"
    }
   ],
   "source": [
    "listDict = [{'a':10,\"b\":20},{'a':5,'b':10,'c':20}]\n",
    "dFrameListDict = pd.DataFrame(listDict)\n",
    "dFrameListDict"
   ]
  },
  {
   "cell_type": "code",
   "execution_count": 31,
   "id": "29ce65f6-d6c1-4dba-9d41-0d044080059f",
   "metadata": {},
   "outputs": [
    {
     "data": {
      "text/html": [
       "<div>\n",
       "<style scoped>\n",
       "    .dataframe tbody tr th:only-of-type {\n",
       "        vertical-align: middle;\n",
       "    }\n",
       "\n",
       "    .dataframe tbody tr th {\n",
       "        vertical-align: top;\n",
       "    }\n",
       "\n",
       "    .dataframe thead th {\n",
       "        text-align: right;\n",
       "    }\n",
       "</style>\n",
       "<table border=\"1\" class=\"dataframe\">\n",
       "  <thead>\n",
       "    <tr style=\"text-align: right;\">\n",
       "      <th></th>\n",
       "      <th>0</th>\n",
       "    </tr>\n",
       "  </thead>\n",
       "  <tbody>\n",
       "    <tr>\n",
       "      <th>a</th>\n",
       "      <td>1</td>\n",
       "    </tr>\n",
       "    <tr>\n",
       "      <th>b</th>\n",
       "      <td>2</td>\n",
       "    </tr>\n",
       "    <tr>\n",
       "      <th>c</th>\n",
       "      <td>3</td>\n",
       "    </tr>\n",
       "    <tr>\n",
       "      <th>d</th>\n",
       "      <td>4</td>\n",
       "    </tr>\n",
       "    <tr>\n",
       "      <th>e</th>\n",
       "      <td>5</td>\n",
       "    </tr>\n",
       "  </tbody>\n",
       "</table>\n",
       "</div>"
      ],
      "text/plain": [
       "   0\n",
       "a  1\n",
       "b  2\n",
       "c  3\n",
       "d  4\n",
       "e  5"
      ]
     },
     "execution_count": 31,
     "metadata": {},
     "output_type": "execute_result"
    }
   ],
   "source": [
    "seriesA = pd.Series([1,2,3,4,5],index =['a','b','c','d','e'])\n",
    "seriesB = pd.Series([1000,2000,-1000,-5000,1000],index = ['a','b','c','d','e'])\n",
    "seriesC = pd.Series([10,20,-10,-50,100],index = ['z','y','a','c','e'])\n",
    "\n",
    "dFrame6 = pd.DataFrame(seriesA)\n",
    "dFrame6\n"
   ]
  },
  {
   "cell_type": "code",
   "execution_count": 33,
   "id": "957dad4c-1c31-47e1-9de3-ebca3a6cbdcf",
   "metadata": {},
   "outputs": [
    {
     "data": {
      "text/html": [
       "<div>\n",
       "<style scoped>\n",
       "    .dataframe tbody tr th:only-of-type {\n",
       "        vertical-align: middle;\n",
       "    }\n",
       "\n",
       "    .dataframe tbody tr th {\n",
       "        vertical-align: top;\n",
       "    }\n",
       "\n",
       "    .dataframe thead th {\n",
       "        text-align: right;\n",
       "    }\n",
       "</style>\n",
       "<table border=\"1\" class=\"dataframe\">\n",
       "  <thead>\n",
       "    <tr style=\"text-align: right;\">\n",
       "      <th></th>\n",
       "      <th>a</th>\n",
       "      <th>b</th>\n",
       "      <th>c</th>\n",
       "      <th>d</th>\n",
       "      <th>e</th>\n",
       "    </tr>\n",
       "  </thead>\n",
       "  <tbody>\n",
       "    <tr>\n",
       "      <th>0</th>\n",
       "      <td>1</td>\n",
       "      <td>2</td>\n",
       "      <td>3</td>\n",
       "      <td>4</td>\n",
       "      <td>5</td>\n",
       "    </tr>\n",
       "    <tr>\n",
       "      <th>1</th>\n",
       "      <td>1000</td>\n",
       "      <td>2000</td>\n",
       "      <td>-1000</td>\n",
       "      <td>-5000</td>\n",
       "      <td>1000</td>\n",
       "    </tr>\n",
       "  </tbody>\n",
       "</table>\n",
       "</div>"
      ],
      "text/plain": [
       "      a     b     c     d     e\n",
       "0     1     2     3     4     5\n",
       "1  1000  2000 -1000 -5000  1000"
      ]
     },
     "execution_count": 33,
     "metadata": {},
     "output_type": "execute_result"
    }
   ],
   "source": [
    "dFrame7 = pd.DataFrame([seriesA,seriesB])\n",
    "dFrame7"
   ]
  },
  {
   "cell_type": "code",
   "execution_count": 3,
   "id": "a5016039-11ca-4ad1-8142-8a0969690c27",
   "metadata": {},
   "outputs": [
    {
     "data": {
      "text/html": [
       "<div>\n",
       "<style scoped>\n",
       "    .dataframe tbody tr th:only-of-type {\n",
       "        vertical-align: middle;\n",
       "    }\n",
       "\n",
       "    .dataframe tbody tr th {\n",
       "        vertical-align: top;\n",
       "    }\n",
       "\n",
       "    .dataframe thead th {\n",
       "        text-align: right;\n",
       "    }\n",
       "</style>\n",
       "<table border=\"1\" class=\"dataframe\">\n",
       "  <thead>\n",
       "    <tr style=\"text-align: right;\">\n",
       "      <th></th>\n",
       "      <th>Aranab</th>\n",
       "      <th>Ramit</th>\n",
       "      <th>sahir</th>\n",
       "      <th>riya</th>\n",
       "      <th>mallik</th>\n",
       "    </tr>\n",
       "  </thead>\n",
       "  <tbody>\n",
       "    <tr>\n",
       "      <th>maths</th>\n",
       "      <td>90</td>\n",
       "      <td>92</td>\n",
       "      <td>89</td>\n",
       "      <td>81</td>\n",
       "      <td>79</td>\n",
       "    </tr>\n",
       "    <tr>\n",
       "      <th>science</th>\n",
       "      <td>91</td>\n",
       "      <td>81</td>\n",
       "      <td>91</td>\n",
       "      <td>71</td>\n",
       "      <td>81</td>\n",
       "    </tr>\n",
       "    <tr>\n",
       "      <th>hindi</th>\n",
       "      <td>97</td>\n",
       "      <td>96</td>\n",
       "      <td>88</td>\n",
       "      <td>68</td>\n",
       "      <td>78</td>\n",
       "    </tr>\n",
       "  </tbody>\n",
       "</table>\n",
       "</div>"
      ],
      "text/plain": [
       "         Aranab  Ramit  sahir  riya  mallik\n",
       "maths        90     92     89    81      79\n",
       "science      91     81     91    71      81\n",
       "hindi        97     96     88    68      78"
      ]
     },
     "execution_count": 3,
     "metadata": {},
     "output_type": "execute_result"
    }
   ],
   "source": [
    "ResultSheet = {'Aranab':pd.Series([90,91,97],index = ['maths','science','hindi']),\n",
    "'Ramit':pd.Series([92,81,96],index = ['maths','science','hindi']),\n",
    "'sahir':pd.Series([89,91,88],index = ['maths','science','hindi']),\n",
    "'riya':pd.Series([81,71,68],index = ['maths','science','hindi']),\n",
    "'mallik':pd.Series([79,81,78],index = ['maths','science','hindi'])}\n",
    "ResultDf = pd.DataFrame(ResultSheet)\n",
    "ResultDf\n"
   ]
  },
  {
   "cell_type": "code",
   "execution_count": 9,
   "id": "c1d97283-4d8c-482b-81d9-0416df6823db",
   "metadata": {},
   "outputs": [
    {
     "data": {
      "text/html": [
       "<div>\n",
       "<style scoped>\n",
       "    .dataframe tbody tr th:only-of-type {\n",
       "        vertical-align: middle;\n",
       "    }\n",
       "\n",
       "    .dataframe tbody tr th {\n",
       "        vertical-align: top;\n",
       "    }\n",
       "\n",
       "    .dataframe thead th {\n",
       "        text-align: right;\n",
       "    }\n",
       "</style>\n",
       "<table border=\"1\" class=\"dataframe\">\n",
       "  <thead>\n",
       "    <tr style=\"text-align: right;\">\n",
       "      <th></th>\n",
       "      <th>Aranab</th>\n",
       "      <th>Ramit</th>\n",
       "      <th>sahir</th>\n",
       "      <th>riya</th>\n",
       "      <th>mallik</th>\n",
       "      <th>jimy</th>\n",
       "    </tr>\n",
       "  </thead>\n",
       "  <tbody>\n",
       "    <tr>\n",
       "      <th>maths</th>\n",
       "      <td>90</td>\n",
       "      <td>92</td>\n",
       "      <td>89</td>\n",
       "      <td>81</td>\n",
       "      <td>79</td>\n",
       "      <td>89</td>\n",
       "    </tr>\n",
       "    <tr>\n",
       "      <th>science</th>\n",
       "      <td>91</td>\n",
       "      <td>81</td>\n",
       "      <td>91</td>\n",
       "      <td>71</td>\n",
       "      <td>81</td>\n",
       "      <td>78</td>\n",
       "    </tr>\n",
       "    <tr>\n",
       "      <th>hindi</th>\n",
       "      <td>97</td>\n",
       "      <td>96</td>\n",
       "      <td>88</td>\n",
       "      <td>68</td>\n",
       "      <td>78</td>\n",
       "      <td>76</td>\n",
       "    </tr>\n",
       "  </tbody>\n",
       "</table>\n",
       "</div>"
      ],
      "text/plain": [
       "         Aranab  Ramit  sahir  riya  mallik  jimy\n",
       "maths        90     92     89    81      79    89\n",
       "science      91     81     91    71      81    78\n",
       "hindi        97     96     88    68      78    76"
      ]
     },
     "execution_count": 9,
     "metadata": {},
     "output_type": "execute_result"
    }
   ],
   "source": [
    "ResultDf[\"jimy\"]=[89,78,76]\n",
    "ResultDf\n",
    "\n"
   ]
  },
  {
   "cell_type": "code",
   "execution_count": 11,
   "id": "14a49e73-960f-4b2e-8045-b989a53aadba",
   "metadata": {},
   "outputs": [
    {
     "data": {
      "text/html": [
       "<div>\n",
       "<style scoped>\n",
       "    .dataframe tbody tr th:only-of-type {\n",
       "        vertical-align: middle;\n",
       "    }\n",
       "\n",
       "    .dataframe tbody tr th {\n",
       "        vertical-align: top;\n",
       "    }\n",
       "\n",
       "    .dataframe thead th {\n",
       "        text-align: right;\n",
       "    }\n",
       "</style>\n",
       "<table border=\"1\" class=\"dataframe\">\n",
       "  <thead>\n",
       "    <tr style=\"text-align: right;\">\n",
       "      <th></th>\n",
       "      <th>Aranab</th>\n",
       "      <th>Ramit</th>\n",
       "      <th>sahir</th>\n",
       "      <th>riya</th>\n",
       "      <th>mallik</th>\n",
       "      <th>jimy</th>\n",
       "    </tr>\n",
       "  </thead>\n",
       "  <tbody>\n",
       "    <tr>\n",
       "      <th>maths</th>\n",
       "      <td>90</td>\n",
       "      <td>92</td>\n",
       "      <td>89</td>\n",
       "      <td>81</td>\n",
       "      <td>79</td>\n",
       "      <td>89</td>\n",
       "    </tr>\n",
       "    <tr>\n",
       "      <th>hindi</th>\n",
       "      <td>97</td>\n",
       "      <td>96</td>\n",
       "      <td>88</td>\n",
       "      <td>68</td>\n",
       "      <td>78</td>\n",
       "      <td>76</td>\n",
       "    </tr>\n",
       "  </tbody>\n",
       "</table>\n",
       "</div>"
      ],
      "text/plain": [
       "       Aranab  Ramit  sahir  riya  mallik  jimy\n",
       "maths      90     92     89    81      79    89\n",
       "hindi      97     96     88    68      78    76"
      ]
     },
     "execution_count": 11,
     "metadata": {},
     "output_type": "execute_result"
    }
   ],
   "source": [
    "ResultDf = ResultDf.drop('science',axis=0)\n",
    "ResultDf"
   ]
  },
  {
   "cell_type": "code",
   "execution_count": 15,
   "id": "92b577a5-723e-46d3-804e-e94af936305e",
   "metadata": {},
   "outputs": [
    {
     "data": {
      "text/html": [
       "<div>\n",
       "<style scoped>\n",
       "    .dataframe tbody tr th:only-of-type {\n",
       "        vertical-align: middle;\n",
       "    }\n",
       "\n",
       "    .dataframe tbody tr th {\n",
       "        vertical-align: top;\n",
       "    }\n",
       "\n",
       "    .dataframe thead th {\n",
       "        text-align: right;\n",
       "    }\n",
       "</style>\n",
       "<table border=\"1\" class=\"dataframe\">\n",
       "  <thead>\n",
       "    <tr style=\"text-align: right;\">\n",
       "      <th></th>\n",
       "      <th>Aranab</th>\n",
       "      <th>sahir</th>\n",
       "      <th>mallik</th>\n",
       "      <th>jimy</th>\n",
       "    </tr>\n",
       "  </thead>\n",
       "  <tbody>\n",
       "    <tr>\n",
       "      <th>maths</th>\n",
       "      <td>90</td>\n",
       "      <td>89</td>\n",
       "      <td>79</td>\n",
       "      <td>89</td>\n",
       "    </tr>\n",
       "    <tr>\n",
       "      <th>hindi</th>\n",
       "      <td>97</td>\n",
       "      <td>88</td>\n",
       "      <td>78</td>\n",
       "      <td>76</td>\n",
       "    </tr>\n",
       "  </tbody>\n",
       "</table>\n",
       "</div>"
      ],
      "text/plain": [
       "       Aranab  sahir  mallik  jimy\n",
       "maths      90     89      79    89\n",
       "hindi      97     88      78    76"
      ]
     },
     "execution_count": 15,
     "metadata": {},
     "output_type": "execute_result"
    }
   ],
   "source": [
    "ResultDf = ResultDf.drop(['Ramit','riya'],axis=1)\n",
    "ResultDf"
   ]
  },
  {
   "cell_type": "code",
   "execution_count": 27,
   "id": "606b77d7-1d7a-4951-953d-eb8c968aa837",
   "metadata": {},
   "outputs": [
    {
     "data": {
      "text/html": [
       "<div>\n",
       "<style scoped>\n",
       "    .dataframe tbody tr th:only-of-type {\n",
       "        vertical-align: middle;\n",
       "    }\n",
       "\n",
       "    .dataframe tbody tr th {\n",
       "        vertical-align: top;\n",
       "    }\n",
       "\n",
       "    .dataframe thead th {\n",
       "        text-align: right;\n",
       "    }\n",
       "</style>\n",
       "<table border=\"1\" class=\"dataframe\">\n",
       "  <thead>\n",
       "    <tr style=\"text-align: right;\">\n",
       "      <th></th>\n",
       "      <th>Aranab</th>\n",
       "      <th>sahir</th>\n",
       "      <th>mallik</th>\n",
       "      <th>jimy</th>\n",
       "    </tr>\n",
       "  </thead>\n",
       "  <tbody>\n",
       "    <tr>\n",
       "      <th>sub1</th>\n",
       "      <td>90</td>\n",
       "      <td>89</td>\n",
       "      <td>79</td>\n",
       "      <td>89</td>\n",
       "    </tr>\n",
       "    <tr>\n",
       "      <th>sub4</th>\n",
       "      <td>97</td>\n",
       "      <td>88</td>\n",
       "      <td>78</td>\n",
       "      <td>76</td>\n",
       "    </tr>\n",
       "  </tbody>\n",
       "</table>\n",
       "</div>"
      ],
      "text/plain": [
       "      Aranab  sahir  mallik  jimy\n",
       "sub1      90     89      79    89\n",
       "sub4      97     88      78    76"
      ]
     },
     "execution_count": 27,
     "metadata": {},
     "output_type": "execute_result"
    }
   ],
   "source": [
    "ResultDf=ResultDf.rename({'maths':'sub1','english':'sub','hindi':'sub4'},axis='index')\n",
    "ResultDf"
   ]
  },
  {
   "cell_type": "code",
   "execution_count": 35,
   "id": "a9c77d6f-1c5c-429d-bdb5-b17fe9546c50",
   "metadata": {},
   "outputs": [
    {
     "data": {
      "text/plain": [
       "Aranab    97\n",
       "sahir     88\n",
       "mallik    78\n",
       "jimy      76\n",
       "Name: sub4, dtype: int64"
      ]
     },
     "execution_count": 35,
     "metadata": {},
     "output_type": "execute_result"
    }
   ],
   "source": [
    "\n",
    "ResultDf.loc['sub4']"
   ]
  },
  {
   "cell_type": "code",
   "execution_count": 37,
   "id": "48e09c89-02a8-47a0-83dc-d79606f0c906",
   "metadata": {},
   "outputs": [
    {
     "data": {
      "text/html": [
       "<div>\n",
       "<style scoped>\n",
       "    .dataframe tbody tr th:only-of-type {\n",
       "        vertical-align: middle;\n",
       "    }\n",
       "\n",
       "    .dataframe tbody tr th {\n",
       "        vertical-align: top;\n",
       "    }\n",
       "\n",
       "    .dataframe thead th {\n",
       "        text-align: right;\n",
       "    }\n",
       "</style>\n",
       "<table border=\"1\" class=\"dataframe\">\n",
       "  <thead>\n",
       "    <tr style=\"text-align: right;\">\n",
       "      <th></th>\n",
       "      <th>Aranab</th>\n",
       "      <th>sahir</th>\n",
       "      <th>mallik</th>\n",
       "      <th>jimy</th>\n",
       "    </tr>\n",
       "  </thead>\n",
       "  <tbody>\n",
       "    <tr>\n",
       "      <th>sub1</th>\n",
       "      <td>90</td>\n",
       "      <td>89</td>\n",
       "      <td>79</td>\n",
       "      <td>89</td>\n",
       "    </tr>\n",
       "    <tr>\n",
       "      <th>sub4</th>\n",
       "      <td>97</td>\n",
       "      <td>88</td>\n",
       "      <td>78</td>\n",
       "      <td>76</td>\n",
       "    </tr>\n",
       "  </tbody>\n",
       "</table>\n",
       "</div>"
      ],
      "text/plain": [
       "      Aranab  sahir  mallik  jimy\n",
       "sub1      90     89      79    89\n",
       "sub4      97     88      78    76"
      ]
     },
     "execution_count": 37,
     "metadata": {},
     "output_type": "execute_result"
    }
   ],
   "source": [
    "ResultDf.loc['sub1':'sub4']"
   ]
  },
  {
   "cell_type": "code",
   "execution_count": 9,
   "id": "a1d00440-70c3-442e-8875-8fe001db2bc1",
   "metadata": {},
   "outputs": [
    {
     "data": {
      "text/html": [
       "<div>\n",
       "<style scoped>\n",
       "    .dataframe tbody tr th:only-of-type {\n",
       "        vertical-align: middle;\n",
       "    }\n",
       "\n",
       "    .dataframe tbody tr th {\n",
       "        vertical-align: top;\n",
       "    }\n",
       "\n",
       "    .dataframe thead th {\n",
       "        text-align: right;\n",
       "    }\n",
       "</style>\n",
       "<table border=\"1\" class=\"dataframe\">\n",
       "  <thead>\n",
       "    <tr style=\"text-align: right;\">\n",
       "      <th></th>\n",
       "      <th>CustomerID</th>\n",
       "      <th>Gender</th>\n",
       "      <th>Age</th>\n",
       "      <th>Annual Income (k$)</th>\n",
       "      <th>Spending Score (1-100)</th>\n",
       "    </tr>\n",
       "  </thead>\n",
       "  <tbody>\n",
       "    <tr>\n",
       "      <th>0</th>\n",
       "      <td>1</td>\n",
       "      <td>Male</td>\n",
       "      <td>19</td>\n",
       "      <td>15</td>\n",
       "      <td>39</td>\n",
       "    </tr>\n",
       "    <tr>\n",
       "      <th>1</th>\n",
       "      <td>2</td>\n",
       "      <td>Male</td>\n",
       "      <td>21</td>\n",
       "      <td>15</td>\n",
       "      <td>81</td>\n",
       "    </tr>\n",
       "    <tr>\n",
       "      <th>2</th>\n",
       "      <td>3</td>\n",
       "      <td>Female</td>\n",
       "      <td>20</td>\n",
       "      <td>16</td>\n",
       "      <td>6</td>\n",
       "    </tr>\n",
       "    <tr>\n",
       "      <th>3</th>\n",
       "      <td>4</td>\n",
       "      <td>Female</td>\n",
       "      <td>23</td>\n",
       "      <td>16</td>\n",
       "      <td>77</td>\n",
       "    </tr>\n",
       "    <tr>\n",
       "      <th>4</th>\n",
       "      <td>5</td>\n",
       "      <td>Female</td>\n",
       "      <td>31</td>\n",
       "      <td>17</td>\n",
       "      <td>40</td>\n",
       "    </tr>\n",
       "    <tr>\n",
       "      <th>...</th>\n",
       "      <td>...</td>\n",
       "      <td>...</td>\n",
       "      <td>...</td>\n",
       "      <td>...</td>\n",
       "      <td>...</td>\n",
       "    </tr>\n",
       "    <tr>\n",
       "      <th>195</th>\n",
       "      <td>196</td>\n",
       "      <td>Female</td>\n",
       "      <td>35</td>\n",
       "      <td>120</td>\n",
       "      <td>79</td>\n",
       "    </tr>\n",
       "    <tr>\n",
       "      <th>196</th>\n",
       "      <td>197</td>\n",
       "      <td>Female</td>\n",
       "      <td>45</td>\n",
       "      <td>126</td>\n",
       "      <td>28</td>\n",
       "    </tr>\n",
       "    <tr>\n",
       "      <th>197</th>\n",
       "      <td>198</td>\n",
       "      <td>Male</td>\n",
       "      <td>32</td>\n",
       "      <td>126</td>\n",
       "      <td>74</td>\n",
       "    </tr>\n",
       "    <tr>\n",
       "      <th>198</th>\n",
       "      <td>199</td>\n",
       "      <td>Male</td>\n",
       "      <td>32</td>\n",
       "      <td>137</td>\n",
       "      <td>18</td>\n",
       "    </tr>\n",
       "    <tr>\n",
       "      <th>199</th>\n",
       "      <td>200</td>\n",
       "      <td>Male</td>\n",
       "      <td>30</td>\n",
       "      <td>137</td>\n",
       "      <td>83</td>\n",
       "    </tr>\n",
       "  </tbody>\n",
       "</table>\n",
       "<p>200 rows × 5 columns</p>\n",
       "</div>"
      ],
      "text/plain": [
       "     CustomerID  Gender  Age  Annual Income (k$)  Spending Score (1-100)\n",
       "0             1    Male   19                  15                      39\n",
       "1             2    Male   21                  15                      81\n",
       "2             3  Female   20                  16                       6\n",
       "3             4  Female   23                  16                      77\n",
       "4             5  Female   31                  17                      40\n",
       "..          ...     ...  ...                 ...                     ...\n",
       "195         196  Female   35                 120                      79\n",
       "196         197  Female   45                 126                      28\n",
       "197         198    Male   32                 126                      74\n",
       "198         199    Male   32                 137                      18\n",
       "199         200    Male   30                 137                      83\n",
       "\n",
       "[200 rows x 5 columns]"
      ]
     },
     "execution_count": 9,
     "metadata": {},
     "output_type": "execute_result"
    }
   ],
   "source": [
    "import pandas as pd\n",
    "df3=pd.read_csv('C:\\\\Users\\\\rajp6\\\\Downloads\\\\archive (2)\\\\Mall_Customers.csv')\n",
    "df3"
   ]
  },
  {
   "cell_type": "code",
   "execution_count": 17,
   "id": "29007e9e-ac73-429d-80ad-47099b82a858",
   "metadata": {},
   "outputs": [
    {
     "data": {
      "text/html": [
       "<div>\n",
       "<style scoped>\n",
       "    .dataframe tbody tr th:only-of-type {\n",
       "        vertical-align: middle;\n",
       "    }\n",
       "\n",
       "    .dataframe tbody tr th {\n",
       "        vertical-align: top;\n",
       "    }\n",
       "\n",
       "    .dataframe thead th {\n",
       "        text-align: right;\n",
       "    }\n",
       "</style>\n",
       "<table border=\"1\" class=\"dataframe\">\n",
       "  <thead>\n",
       "    <tr style=\"text-align: right;\">\n",
       "      <th></th>\n",
       "      <th>Product type</th>\n",
       "      <th>SKU</th>\n",
       "      <th>Price</th>\n",
       "      <th>Availability</th>\n",
       "      <th>Number of products sold</th>\n",
       "      <th>Revenue generated</th>\n",
       "      <th>Customer demographics</th>\n",
       "      <th>Stock levels</th>\n",
       "      <th>Lead times</th>\n",
       "      <th>Order quantities</th>\n",
       "      <th>...</th>\n",
       "      <th>Location</th>\n",
       "      <th>Lead time</th>\n",
       "      <th>Production volumes</th>\n",
       "      <th>Manufacturing lead time</th>\n",
       "      <th>Manufacturing costs</th>\n",
       "      <th>Inspection results</th>\n",
       "      <th>Defect rates</th>\n",
       "      <th>Transportation modes</th>\n",
       "      <th>Routes</th>\n",
       "      <th>Costs</th>\n",
       "    </tr>\n",
       "  </thead>\n",
       "  <tbody>\n",
       "    <tr>\n",
       "      <th>0</th>\n",
       "      <td>haircare</td>\n",
       "      <td>SKU0</td>\n",
       "      <td>69.808006</td>\n",
       "      <td>55</td>\n",
       "      <td>802</td>\n",
       "      <td>8661.996792</td>\n",
       "      <td>Non-binary</td>\n",
       "      <td>58</td>\n",
       "      <td>7</td>\n",
       "      <td>96</td>\n",
       "      <td>...</td>\n",
       "      <td>Mumbai</td>\n",
       "      <td>29</td>\n",
       "      <td>215</td>\n",
       "      <td>29</td>\n",
       "      <td>46.279879</td>\n",
       "      <td>Pending</td>\n",
       "      <td>0.226410</td>\n",
       "      <td>Road</td>\n",
       "      <td>Route B</td>\n",
       "      <td>187.752075</td>\n",
       "    </tr>\n",
       "    <tr>\n",
       "      <th>1</th>\n",
       "      <td>skincare</td>\n",
       "      <td>SKU1</td>\n",
       "      <td>14.843523</td>\n",
       "      <td>95</td>\n",
       "      <td>736</td>\n",
       "      <td>7460.900065</td>\n",
       "      <td>Female</td>\n",
       "      <td>53</td>\n",
       "      <td>30</td>\n",
       "      <td>37</td>\n",
       "      <td>...</td>\n",
       "      <td>Mumbai</td>\n",
       "      <td>23</td>\n",
       "      <td>517</td>\n",
       "      <td>30</td>\n",
       "      <td>33.616769</td>\n",
       "      <td>Pending</td>\n",
       "      <td>4.854068</td>\n",
       "      <td>Road</td>\n",
       "      <td>Route B</td>\n",
       "      <td>503.065579</td>\n",
       "    </tr>\n",
       "    <tr>\n",
       "      <th>2</th>\n",
       "      <td>haircare</td>\n",
       "      <td>SKU2</td>\n",
       "      <td>11.319683</td>\n",
       "      <td>34</td>\n",
       "      <td>8</td>\n",
       "      <td>9577.749626</td>\n",
       "      <td>Unknown</td>\n",
       "      <td>1</td>\n",
       "      <td>10</td>\n",
       "      <td>88</td>\n",
       "      <td>...</td>\n",
       "      <td>Mumbai</td>\n",
       "      <td>12</td>\n",
       "      <td>971</td>\n",
       "      <td>27</td>\n",
       "      <td>30.688019</td>\n",
       "      <td>Pending</td>\n",
       "      <td>4.580593</td>\n",
       "      <td>Air</td>\n",
       "      <td>Route C</td>\n",
       "      <td>141.920282</td>\n",
       "    </tr>\n",
       "    <tr>\n",
       "      <th>3</th>\n",
       "      <td>skincare</td>\n",
       "      <td>SKU3</td>\n",
       "      <td>61.163343</td>\n",
       "      <td>68</td>\n",
       "      <td>83</td>\n",
       "      <td>7766.836426</td>\n",
       "      <td>Non-binary</td>\n",
       "      <td>23</td>\n",
       "      <td>13</td>\n",
       "      <td>59</td>\n",
       "      <td>...</td>\n",
       "      <td>Kolkata</td>\n",
       "      <td>24</td>\n",
       "      <td>937</td>\n",
       "      <td>18</td>\n",
       "      <td>35.624741</td>\n",
       "      <td>Fail</td>\n",
       "      <td>4.746649</td>\n",
       "      <td>Rail</td>\n",
       "      <td>Route A</td>\n",
       "      <td>254.776159</td>\n",
       "    </tr>\n",
       "    <tr>\n",
       "      <th>4</th>\n",
       "      <td>skincare</td>\n",
       "      <td>SKU4</td>\n",
       "      <td>4.805496</td>\n",
       "      <td>26</td>\n",
       "      <td>871</td>\n",
       "      <td>2686.505152</td>\n",
       "      <td>Non-binary</td>\n",
       "      <td>5</td>\n",
       "      <td>3</td>\n",
       "      <td>56</td>\n",
       "      <td>...</td>\n",
       "      <td>Delhi</td>\n",
       "      <td>5</td>\n",
       "      <td>414</td>\n",
       "      <td>3</td>\n",
       "      <td>92.065161</td>\n",
       "      <td>Fail</td>\n",
       "      <td>3.145580</td>\n",
       "      <td>Air</td>\n",
       "      <td>Route A</td>\n",
       "      <td>923.440632</td>\n",
       "    </tr>\n",
       "    <tr>\n",
       "      <th>...</th>\n",
       "      <td>...</td>\n",
       "      <td>...</td>\n",
       "      <td>...</td>\n",
       "      <td>...</td>\n",
       "      <td>...</td>\n",
       "      <td>...</td>\n",
       "      <td>...</td>\n",
       "      <td>...</td>\n",
       "      <td>...</td>\n",
       "      <td>...</td>\n",
       "      <td>...</td>\n",
       "      <td>...</td>\n",
       "      <td>...</td>\n",
       "      <td>...</td>\n",
       "      <td>...</td>\n",
       "      <td>...</td>\n",
       "      <td>...</td>\n",
       "      <td>...</td>\n",
       "      <td>...</td>\n",
       "      <td>...</td>\n",
       "      <td>...</td>\n",
       "    </tr>\n",
       "    <tr>\n",
       "      <th>95</th>\n",
       "      <td>haircare</td>\n",
       "      <td>SKU95</td>\n",
       "      <td>77.903927</td>\n",
       "      <td>65</td>\n",
       "      <td>672</td>\n",
       "      <td>7386.363944</td>\n",
       "      <td>Unknown</td>\n",
       "      <td>15</td>\n",
       "      <td>14</td>\n",
       "      <td>26</td>\n",
       "      <td>...</td>\n",
       "      <td>Mumbai</td>\n",
       "      <td>18</td>\n",
       "      <td>450</td>\n",
       "      <td>26</td>\n",
       "      <td>58.890686</td>\n",
       "      <td>Pending</td>\n",
       "      <td>1.210882</td>\n",
       "      <td>Air</td>\n",
       "      <td>Route A</td>\n",
       "      <td>778.864241</td>\n",
       "    </tr>\n",
       "    <tr>\n",
       "      <th>96</th>\n",
       "      <td>cosmetics</td>\n",
       "      <td>SKU96</td>\n",
       "      <td>24.423131</td>\n",
       "      <td>29</td>\n",
       "      <td>324</td>\n",
       "      <td>7698.424766</td>\n",
       "      <td>Non-binary</td>\n",
       "      <td>67</td>\n",
       "      <td>2</td>\n",
       "      <td>32</td>\n",
       "      <td>...</td>\n",
       "      <td>Mumbai</td>\n",
       "      <td>28</td>\n",
       "      <td>648</td>\n",
       "      <td>28</td>\n",
       "      <td>17.803756</td>\n",
       "      <td>Pending</td>\n",
       "      <td>3.872048</td>\n",
       "      <td>Road</td>\n",
       "      <td>Route A</td>\n",
       "      <td>188.742141</td>\n",
       "    </tr>\n",
       "    <tr>\n",
       "      <th>97</th>\n",
       "      <td>haircare</td>\n",
       "      <td>SKU97</td>\n",
       "      <td>3.526111</td>\n",
       "      <td>56</td>\n",
       "      <td>62</td>\n",
       "      <td>4370.916580</td>\n",
       "      <td>Male</td>\n",
       "      <td>46</td>\n",
       "      <td>19</td>\n",
       "      <td>4</td>\n",
       "      <td>...</td>\n",
       "      <td>Mumbai</td>\n",
       "      <td>10</td>\n",
       "      <td>535</td>\n",
       "      <td>13</td>\n",
       "      <td>65.765156</td>\n",
       "      <td>Fail</td>\n",
       "      <td>3.376238</td>\n",
       "      <td>Road</td>\n",
       "      <td>Route A</td>\n",
       "      <td>540.132423</td>\n",
       "    </tr>\n",
       "    <tr>\n",
       "      <th>98</th>\n",
       "      <td>skincare</td>\n",
       "      <td>SKU98</td>\n",
       "      <td>19.754605</td>\n",
       "      <td>43</td>\n",
       "      <td>913</td>\n",
       "      <td>8525.952560</td>\n",
       "      <td>Female</td>\n",
       "      <td>53</td>\n",
       "      <td>1</td>\n",
       "      <td>27</td>\n",
       "      <td>...</td>\n",
       "      <td>Chennai</td>\n",
       "      <td>28</td>\n",
       "      <td>581</td>\n",
       "      <td>9</td>\n",
       "      <td>5.604691</td>\n",
       "      <td>Pending</td>\n",
       "      <td>2.908122</td>\n",
       "      <td>Rail</td>\n",
       "      <td>Route A</td>\n",
       "      <td>882.198864</td>\n",
       "    </tr>\n",
       "    <tr>\n",
       "      <th>99</th>\n",
       "      <td>haircare</td>\n",
       "      <td>SKU99</td>\n",
       "      <td>68.517833</td>\n",
       "      <td>17</td>\n",
       "      <td>627</td>\n",
       "      <td>9185.185829</td>\n",
       "      <td>Unknown</td>\n",
       "      <td>55</td>\n",
       "      <td>8</td>\n",
       "      <td>59</td>\n",
       "      <td>...</td>\n",
       "      <td>Chennai</td>\n",
       "      <td>29</td>\n",
       "      <td>921</td>\n",
       "      <td>2</td>\n",
       "      <td>38.072899</td>\n",
       "      <td>Fail</td>\n",
       "      <td>0.346027</td>\n",
       "      <td>Rail</td>\n",
       "      <td>Route B</td>\n",
       "      <td>210.743009</td>\n",
       "    </tr>\n",
       "  </tbody>\n",
       "</table>\n",
       "<p>100 rows × 24 columns</p>\n",
       "</div>"
      ],
      "text/plain": [
       "   Product type    SKU      Price  Availability  Number of products sold  \\\n",
       "0      haircare   SKU0  69.808006            55                      802   \n",
       "1      skincare   SKU1  14.843523            95                      736   \n",
       "2      haircare   SKU2  11.319683            34                        8   \n",
       "3      skincare   SKU3  61.163343            68                       83   \n",
       "4      skincare   SKU4   4.805496            26                      871   \n",
       "..          ...    ...        ...           ...                      ...   \n",
       "95     haircare  SKU95  77.903927            65                      672   \n",
       "96    cosmetics  SKU96  24.423131            29                      324   \n",
       "97     haircare  SKU97   3.526111            56                       62   \n",
       "98     skincare  SKU98  19.754605            43                      913   \n",
       "99     haircare  SKU99  68.517833            17                      627   \n",
       "\n",
       "    Revenue generated Customer demographics  Stock levels  Lead times  \\\n",
       "0         8661.996792            Non-binary            58           7   \n",
       "1         7460.900065                Female            53          30   \n",
       "2         9577.749626               Unknown             1          10   \n",
       "3         7766.836426            Non-binary            23          13   \n",
       "4         2686.505152            Non-binary             5           3   \n",
       "..                ...                   ...           ...         ...   \n",
       "95        7386.363944               Unknown            15          14   \n",
       "96        7698.424766            Non-binary            67           2   \n",
       "97        4370.916580                  Male            46          19   \n",
       "98        8525.952560                Female            53           1   \n",
       "99        9185.185829               Unknown            55           8   \n",
       "\n",
       "    Order quantities  ...  Location Lead time  Production volumes  \\\n",
       "0                 96  ...    Mumbai        29                 215   \n",
       "1                 37  ...    Mumbai        23                 517   \n",
       "2                 88  ...    Mumbai        12                 971   \n",
       "3                 59  ...   Kolkata        24                 937   \n",
       "4                 56  ...     Delhi         5                 414   \n",
       "..               ...  ...       ...       ...                 ...   \n",
       "95                26  ...    Mumbai        18                 450   \n",
       "96                32  ...    Mumbai        28                 648   \n",
       "97                 4  ...    Mumbai        10                 535   \n",
       "98                27  ...   Chennai        28                 581   \n",
       "99                59  ...   Chennai        29                 921   \n",
       "\n",
       "   Manufacturing lead time Manufacturing costs  Inspection results  \\\n",
       "0                       29           46.279879             Pending   \n",
       "1                       30           33.616769             Pending   \n",
       "2                       27           30.688019             Pending   \n",
       "3                       18           35.624741                Fail   \n",
       "4                        3           92.065161                Fail   \n",
       "..                     ...                 ...                 ...   \n",
       "95                      26           58.890686             Pending   \n",
       "96                      28           17.803756             Pending   \n",
       "97                      13           65.765156                Fail   \n",
       "98                       9            5.604691             Pending   \n",
       "99                       2           38.072899                Fail   \n",
       "\n",
       "    Defect rates  Transportation modes   Routes       Costs  \n",
       "0       0.226410                  Road  Route B  187.752075  \n",
       "1       4.854068                  Road  Route B  503.065579  \n",
       "2       4.580593                   Air  Route C  141.920282  \n",
       "3       4.746649                  Rail  Route A  254.776159  \n",
       "4       3.145580                   Air  Route A  923.440632  \n",
       "..           ...                   ...      ...         ...  \n",
       "95      1.210882                   Air  Route A  778.864241  \n",
       "96      3.872048                  Road  Route A  188.742141  \n",
       "97      3.376238                  Road  Route A  540.132423  \n",
       "98      2.908122                  Rail  Route A  882.198864  \n",
       "99      0.346027                  Rail  Route B  210.743009  \n",
       "\n",
       "[100 rows x 24 columns]"
      ]
     },
     "execution_count": 17,
     "metadata": {},
     "output_type": "execute_result"
    }
   ],
   "source": [
    "df4=pd.read_csv(\"C:\\\\Users\\\\rajp6\\\\Downloads\\\\supply_chain_data.csv\")\n",
    "df4"
   ]
  },
  {
   "cell_type": "code",
   "execution_count": 5,
   "id": "6385986d-a380-4fa5-99c2-c308bedeba54",
   "metadata": {},
   "outputs": [
    {
     "data": {
      "text/html": [
       "<div>\n",
       "<style scoped>\n",
       "    .dataframe tbody tr th:only-of-type {\n",
       "        vertical-align: middle;\n",
       "    }\n",
       "\n",
       "    .dataframe tbody tr th {\n",
       "        vertical-align: top;\n",
       "    }\n",
       "\n",
       "    .dataframe thead th {\n",
       "        text-align: right;\n",
       "    }\n",
       "</style>\n",
       "<table border=\"1\" class=\"dataframe\">\n",
       "  <thead>\n",
       "    <tr style=\"text-align: right;\">\n",
       "      <th></th>\n",
       "      <th>Aranab</th>\n",
       "      <th>Ramit</th>\n",
       "      <th>sahir</th>\n",
       "      <th>riya</th>\n",
       "      <th>mallik</th>\n",
       "    </tr>\n",
       "  </thead>\n",
       "  <tbody>\n",
       "    <tr>\n",
       "      <th>count</th>\n",
       "      <td>3.000000</td>\n",
       "      <td>3.000000</td>\n",
       "      <td>3.000000</td>\n",
       "      <td>3.000000</td>\n",
       "      <td>3.000000</td>\n",
       "    </tr>\n",
       "    <tr>\n",
       "      <th>mean</th>\n",
       "      <td>92.666667</td>\n",
       "      <td>89.666667</td>\n",
       "      <td>89.333333</td>\n",
       "      <td>73.333333</td>\n",
       "      <td>79.333333</td>\n",
       "    </tr>\n",
       "    <tr>\n",
       "      <th>std</th>\n",
       "      <td>3.785939</td>\n",
       "      <td>7.767453</td>\n",
       "      <td>1.527525</td>\n",
       "      <td>6.806859</td>\n",
       "      <td>1.527525</td>\n",
       "    </tr>\n",
       "    <tr>\n",
       "      <th>min</th>\n",
       "      <td>90.000000</td>\n",
       "      <td>81.000000</td>\n",
       "      <td>88.000000</td>\n",
       "      <td>68.000000</td>\n",
       "      <td>78.000000</td>\n",
       "    </tr>\n",
       "    <tr>\n",
       "      <th>25%</th>\n",
       "      <td>90.500000</td>\n",
       "      <td>86.500000</td>\n",
       "      <td>88.500000</td>\n",
       "      <td>69.500000</td>\n",
       "      <td>78.500000</td>\n",
       "    </tr>\n",
       "    <tr>\n",
       "      <th>50%</th>\n",
       "      <td>91.000000</td>\n",
       "      <td>92.000000</td>\n",
       "      <td>89.000000</td>\n",
       "      <td>71.000000</td>\n",
       "      <td>79.000000</td>\n",
       "    </tr>\n",
       "    <tr>\n",
       "      <th>75%</th>\n",
       "      <td>94.000000</td>\n",
       "      <td>94.000000</td>\n",
       "      <td>90.000000</td>\n",
       "      <td>76.000000</td>\n",
       "      <td>80.000000</td>\n",
       "    </tr>\n",
       "    <tr>\n",
       "      <th>max</th>\n",
       "      <td>97.000000</td>\n",
       "      <td>96.000000</td>\n",
       "      <td>91.000000</td>\n",
       "      <td>81.000000</td>\n",
       "      <td>81.000000</td>\n",
       "    </tr>\n",
       "  </tbody>\n",
       "</table>\n",
       "</div>"
      ],
      "text/plain": [
       "          Aranab      Ramit      sahir       riya     mallik\n",
       "count   3.000000   3.000000   3.000000   3.000000   3.000000\n",
       "mean   92.666667  89.666667  89.333333  73.333333  79.333333\n",
       "std     3.785939   7.767453   1.527525   6.806859   1.527525\n",
       "min    90.000000  81.000000  88.000000  68.000000  78.000000\n",
       "25%    90.500000  86.500000  88.500000  69.500000  78.500000\n",
       "50%    91.000000  92.000000  89.000000  71.000000  79.000000\n",
       "75%    94.000000  94.000000  90.000000  76.000000  80.000000\n",
       "max    97.000000  96.000000  91.000000  81.000000  81.000000"
      ]
     },
     "execution_count": 5,
     "metadata": {},
     "output_type": "execute_result"
    }
   ],
   "source": [
    "ResultDf.describe()"
   ]
  },
  {
   "cell_type": "code",
   "execution_count": 9,
   "id": "c221a348-63ab-4097-91f8-868b90f7a7d5",
   "metadata": {},
   "outputs": [
    {
     "data": {
      "text/html": [
       "<div>\n",
       "<style scoped>\n",
       "    .dataframe tbody tr th:only-of-type {\n",
       "        vertical-align: middle;\n",
       "    }\n",
       "\n",
       "    .dataframe tbody tr th {\n",
       "        vertical-align: top;\n",
       "    }\n",
       "\n",
       "    .dataframe thead th {\n",
       "        text-align: right;\n",
       "    }\n",
       "</style>\n",
       "<table border=\"1\" class=\"dataframe\">\n",
       "  <thead>\n",
       "    <tr style=\"text-align: right;\">\n",
       "      <th></th>\n",
       "      <th>prakhar</th>\n",
       "      <th>hhsd</th>\n",
       "      <th>njsns</th>\n",
       "    </tr>\n",
       "  </thead>\n",
       "  <tbody>\n",
       "    <tr>\n",
       "      <th>math</th>\n",
       "      <td>90</td>\n",
       "      <td>9</td>\n",
       "      <td>90</td>\n",
       "    </tr>\n",
       "    <tr>\n",
       "      <th>k</th>\n",
       "      <td>91</td>\n",
       "      <td>9</td>\n",
       "      <td>91</td>\n",
       "    </tr>\n",
       "    <tr>\n",
       "      <th>c</th>\n",
       "      <td>34</td>\n",
       "      <td>34</td>\n",
       "      <td>34</td>\n",
       "    </tr>\n",
       "  </tbody>\n",
       "</table>\n",
       "</div>"
      ],
      "text/plain": [
       "      prakhar  hhsd  njsns\n",
       "math       90     9     90\n",
       "k          91     9     91\n",
       "c          34    34     34"
      ]
     },
     "execution_count": 9,
     "metadata": {},
     "output_type": "execute_result"
    }
   ],
   "source": [
    "resulaf = {\"prakhar\":pd.Series([90,91,34],index =[\"math\",\"k\",\"c\"]),\n",
    "           \"hhsd\":pd.Series([9,9,34],index =[\"math\",\"k\",\"c\"]),\n",
    "           \"njsns\":pd.Series([90,91,34],index =[\"math\",\"k\",\"c\"])}\n",
    "ResultDf = pd.DataFrame(resulaf)\n",
    "ResultDf"
   ]
  },
  {
   "cell_type": "code",
   "execution_count": null,
   "id": "84aa6a52-ba83-4269-bc16-f7463d11c36d",
   "metadata": {},
   "outputs": [],
   "source": []
  }
 ],
 "metadata": {
  "kernelspec": {
   "display_name": "Python [conda env:base] *",
   "language": "python",
   "name": "conda-base-py"
  },
  "language_info": {
   "codemirror_mode": {
    "name": "ipython",
    "version": 3
   },
   "file_extension": ".py",
   "mimetype": "text/x-python",
   "name": "python",
   "nbconvert_exporter": "python",
   "pygments_lexer": "ipython3",
   "version": "3.12.7"
  }
 },
 "nbformat": 4,
 "nbformat_minor": 5
}
