{
 "cells": [
  {
   "cell_type": "code",
   "execution_count": 3,
   "id": "322679f3-baf1-43c2-9fe3-b38543ffe989",
   "metadata": {},
   "outputs": [
    {
     "name": "stdin",
     "output_type": "stream",
     "text": [
      "enter no.: 5\n"
     ]
    },
    {
     "name": "stdout",
     "output_type": "stream",
     "text": [
      "the sum: 15\n"
     ]
    }
   ],
   "source": [
    "n = int(input(\"enter no.:\"))\n",
    "i = 1\n",
    "sum = 0\n",
    "while (i<=n):\n",
    "    sum +=i\n",
    "    i+=1\n",
    "print(\"the sum:\",sum)\n"
   ]
  },
  {
   "cell_type": "code",
   "execution_count": 9,
   "id": "cfb235df-2a99-4657-98cf-b21eae75e654",
   "metadata": {},
   "outputs": [
    {
     "name": "stdin",
     "output_type": "stream",
     "text": [
      "enter no.: 2\n"
     ]
    },
    {
     "name": "stdout",
     "output_type": "stream",
     "text": [
      "the sum: 5\n"
     ]
    }
   ],
   "source": [
    "#to find sum of square of natural no.\n",
    "n = int(input(\"enter no.:\"))\n",
    "i = 1\n",
    "sum = 0\n",
    "while (i<=n):\n",
    "    sum += i*i\n",
    "    i +=1\n",
    "print(\"the sum:\",sum)"
   ]
  },
  {
   "cell_type": "code",
   "execution_count": 11,
   "id": "7428b97f-0484-4b13-9489-cc876b2dfec4",
   "metadata": {},
   "outputs": [
    {
     "name": "stdin",
     "output_type": "stream",
     "text": [
      "enter no.: 2\n"
     ]
    },
    {
     "name": "stdout",
     "output_type": "stream",
     "text": [
      "the sum: 9\n"
     ]
    }
   ],
   "source": [
    "## to find sum of cube of natural no.\n",
    "n = int(input(\"enter no.:\"))\n",
    "i = 1\n",
    "sum = 0\n",
    "while (i<=n):\n",
    "    sum += i*i*i\n",
    "    i +=1\n",
    "print(\"the sum:\",sum)"
   ]
  },
  {
   "cell_type": "code",
   "execution_count": 17,
   "id": "1acc8ae9-385a-4159-b5a3-ff60458ada18",
   "metadata": {},
   "outputs": [
    {
     "name": "stdout",
     "output_type": "stream",
     "text": [
      "1\n",
      "2\n",
      "3\n",
      "4\n"
     ]
    }
   ],
   "source": [
    "#break condition\n",
    "i = 1\n",
    "while i < 10:\n",
    "    print(i)\n",
    "    if i == 4:\n",
    "        break\n",
    "    i+=1\n",
    "    "
   ]
  },
  {
   "cell_type": "code",
   "execution_count": 21,
   "id": "7c74185c-6a5f-42e2-b0d0-87b118e3de60",
   "metadata": {},
   "outputs": [
    {
     "name": "stdout",
     "output_type": "stream",
     "text": [
      "1\n",
      "2\n",
      "3\n",
      "4\n",
      "6\n",
      "7\n",
      "9\n",
      "10\n"
     ]
    }
   ],
   "source": [
    "#continue statement\n",
    "i = 0\n",
    "while i<10:\n",
    "    i +=1\n",
    "    if i ==5:\n",
    "        continue\n",
    "    elif i == 8:\n",
    "        continue\n",
    "    print(i)"
   ]
  },
  {
   "cell_type": "code",
   "execution_count": 23,
   "id": "3f296443-44cb-4073-ba3d-4465ce181d6f",
   "metadata": {},
   "outputs": [
    {
     "name": "stdout",
     "output_type": "stream",
     "text": [
      "a\n",
      "b\n",
      "c\n",
      "d\n"
     ]
    }
   ],
   "source": [
    "# for loop\n",
    "l1 = [\"a\",\"b\",\"c\",\"d\"]\n",
    "for x in l1:\n",
    "    print(x)"
   ]
  },
  {
   "cell_type": "code",
   "execution_count": 25,
   "id": "04121123-c1f3-4034-b60c-0fda349905f2",
   "metadata": {},
   "outputs": [
    {
     "name": "stdout",
     "output_type": "stream",
     "text": [
      "a\n",
      "a\n",
      "f\n",
      "t\n"
     ]
    }
   ],
   "source": [
    "for x in \"aaft\":\n",
    "    print(x)\n"
   ]
  },
  {
   "cell_type": "code",
   "execution_count": 27,
   "id": "a0aed144-1c17-4a2e-8464-46481006f1bf",
   "metadata": {},
   "outputs": [
    {
     "name": "stdout",
     "output_type": "stream",
     "text": [
      "a\n",
      "b\n"
     ]
    }
   ],
   "source": [
    "#for break in for loop\n",
    "l1 = [\"a\",\"b\",\"c\",\"d\"]\n",
    "for x in l1:\n",
    "    print(x)\n",
    "    if x == \"b\":\n",
    "        break"
   ]
  },
  {
   "cell_type": "code",
   "execution_count": 29,
   "id": "e1b2c50e-be7c-4b64-bb2c-3cf0e1ad55d6",
   "metadata": {},
   "outputs": [
    {
     "name": "stdout",
     "output_type": "stream",
     "text": [
      "a\n"
     ]
    }
   ],
   "source": [
    "l1 = [\"a\",\"b\",\"c\",\"d\"]\n",
    "for x in l1:\n",
    "    \n",
    "    if x == \"b\":\n",
    "        break\n",
    "    print(x)"
   ]
  },
  {
   "cell_type": "code",
   "execution_count": 33,
   "id": "eaf0450c-ef2a-4ef0-a69d-9ffbe9895ca7",
   "metadata": {},
   "outputs": [
    {
     "name": "stdout",
     "output_type": "stream",
     "text": [
      "a\n",
      "c\n",
      "d\n"
     ]
    }
   ],
   "source": [
    "# to use continue in for loop\n",
    "l1 = [\"a\",\"b\",\"c\",\"d\"]\n",
    "for x in l1:\n",
    "    if x == \"b\":\n",
    "        continue\n",
    "    print(x)"
   ]
  },
  {
   "cell_type": "code",
   "execution_count": 1,
   "id": "2735eebe-51e5-4992-aa1d-a5e066efde8c",
   "metadata": {},
   "outputs": [
    {
     "name": "stdout",
     "output_type": "stream",
     "text": [
      "0\n",
      "1\n",
      "2\n",
      "3\n",
      "4\n",
      "5\n",
      "6\n",
      "2143\n",
      "123\n",
      "7834\n",
      "this line is not in loop\n",
      "this loop cycled 10 times\n"
     ]
    }
   ],
   "source": [
    "counter = 0\n",
    "simple_list = [0,1,2,3,4,5,6,2143,123,7834]\n",
    "for i in simple_list:\n",
    "    print(i)\n",
    "    counter = counter + 1\n",
    "print('this line is not in loop')\n",
    "print('this loop cycled',counter,'times')"
   ]
  },
  {
   "cell_type": "code",
   "execution_count": 3,
   "id": "128e14e4-3b67-42d4-84f7-4baa610f7908",
   "metadata": {},
   "outputs": [
    {
     "name": "stdout",
     "output_type": "stream",
     "text": [
      "2\n",
      "5\n",
      "8\n"
     ]
    }
   ],
   "source": [
    "for i in range(2,10,3):\n",
    "    print(i)"
   ]
  },
  {
   "cell_type": "code",
   "execution_count": 7,
   "id": "fd29540d-898f-4fcc-ad76-147feb4505dd",
   "metadata": {},
   "outputs": [
    {
     "name": "stdout",
     "output_type": "stream",
     "text": [
      "1 google\n",
      "1 meta\n",
      "1 fujitsu\n",
      "2 google\n",
      "2 meta\n",
      "2 fujitsu\n",
      "3 google\n",
      "3 meta\n",
      "3 fujitsu\n"
     ]
    }
   ],
   "source": [
    "l2 = [1,2,3]\n",
    "l3 = [\"google\",\"meta\",\"fujitsu\"]\n",
    "\n",
    "for x in l2:\n",
    "    for y in l3:\n",
    "        print(x,y)\n",
    "    "
   ]
  },
  {
   "cell_type": "code",
   "execution_count": 17,
   "id": "c5d4c2f0-2281-4c86-ac2f-e6b0bd662d27",
   "metadata": {},
   "outputs": [
    {
     "name": "stdout",
     "output_type": "stream",
     "text": [
      "0\n",
      "1\n",
      "2\n"
     ]
    }
   ],
   "source": [
    "for x in [0,1,2]:\n",
    "    print(x)\n",
    "    pass"
   ]
  },
  {
   "cell_type": "code",
   "execution_count": 27,
   "id": "7a3bff7f-cfff-4340-8567-fe86b94f1ca1",
   "metadata": {},
   "outputs": [
    {
     "name": "stdin",
     "output_type": "stream",
     "text": [
      "enter number: 3\n"
     ]
    },
    {
     "name": "stdout",
     "output_type": "stream",
     "text": [
      "factorial of a number is: 6\n"
     ]
    }
   ],
   "source": [
    "# factorial code\n",
    "num = int(input(\"enter number:\"))\n",
    "fact = 1\n",
    "for i in range(1,num+1):\n",
    "    fact = fact*i\n",
    "print(\"factorial of a number is:\",fact)"
   ]
  },
  {
   "cell_type": "code",
   "execution_count": 37,
   "id": "9a1cfa0f-3cb2-4bd4-8328-b4c85cd4f436",
   "metadata": {},
   "outputs": [
    {
     "name": "stdin",
     "output_type": "stream",
     "text": [
      "Enter a number:  109\n"
     ]
    },
    {
     "name": "stdout",
     "output_type": "stream",
     "text": [
      "109 is a prime number.\n"
     ]
    }
   ],
   "source": [
    "def is_prime(n):\n",
    "    if n <= 1:\n",
    "        return False\n",
    "    for i in range(2, int(n**0.5) + 1):\n",
    "        if n % i == 0:\n",
    "            return False\n",
    "    return True\n",
    "\n",
    "num = int(input(\"Enter a number: \"))\n",
    "if is_prime(num):\n",
    "    print(f\"{num} is a prime number.\")\n",
    "else:\n",
    "    print(f\"{num} is not a prime number.\")"
   ]
  },
  {
   "cell_type": "code",
   "execution_count": 1,
   "id": "acb5f9ff-c00f-43be-9e93-3724d05ee80b",
   "metadata": {},
   "outputs": [
    {
     "name": "stdin",
     "output_type": "stream",
     "text": [
      "enter number: 432\n"
     ]
    },
    {
     "name": "stdout",
     "output_type": "stream",
     "text": [
      "reverse of given number is: 234\n"
     ]
    }
   ],
   "source": [
    "# to reverse no\n",
    "num = int(input(\"enter number:\"))\n",
    "rev = 0\n",
    "while(num>0):\n",
    "    rev=(rev*10)+num%10\n",
    "    num=num//10\n",
    "print(\"reverse of given number is:\",rev)"
   ]
  },
  {
   "cell_type": "code",
   "execution_count": 11,
   "id": "3e66b3e4-9152-483b-a6bd-9a5df4eb7256",
   "metadata": {},
   "outputs": [
    {
     "name": "stdin",
     "output_type": "stream",
     "text": [
      "enter number: 432\n"
     ]
    },
    {
     "name": "stdout",
     "output_type": "stream",
     "text": [
      "not palindrone:\n"
     ]
    }
   ],
   "source": [
    "num = int(input(\"enter number:\"))\n",
    "rev = 0\n",
    "x = num\n",
    "while(num>0):\n",
    "    rev=(rev*10)+num%10\n",
    "    num=num//10\n",
    "if(x==rev):\n",
    "    print(\"no. is palindrone:\")\n",
    "else:\n",
    "    print(\"not palindrone:\")"
   ]
  },
  {
   "cell_type": "code",
   "execution_count": 15,
   "id": "5b857d3d-51c7-4703-be92-90c0c97734b8",
   "metadata": {},
   "outputs": [
    {
     "name": "stdin",
     "output_type": "stream",
     "text": [
      "enter number: 153\n"
     ]
    },
    {
     "name": "stdout",
     "output_type": "stream",
     "text": [
      "no. is armstrom\n"
     ]
    }
   ],
   "source": [
    "#armstrom\n",
    "n = int(input(\"enter number:\"))\n",
    "x = n\n",
    "sum = 0\n",
    "while(n>0):\n",
    "    sum = sum+(n%10)*(n%10)*(n%10)\n",
    "    n=n//10\n",
    "if x==sum:\n",
    "    print(\"no. is armstrom\")\n",
    "else:\n",
    "    print(\"no. is not armstrom\")\n",
    "    "
   ]
  },
  {
   "cell_type": "code",
   "execution_count": 3,
   "id": "e908b105-9d21-4d9f-b0b3-0f05fa467cd4",
   "metadata": {},
   "outputs": [
    {
     "name": "stdin",
     "output_type": "stream",
     "text": [
      "enter the limit number 95\n"
     ]
    },
    {
     "name": "stdout",
     "output_type": "stream",
     "text": [
      "0\n",
      "1\n",
      "1\n",
      "2\n",
      "3\n",
      "5\n",
      "8\n",
      "13\n",
      "21\n",
      "34\n",
      "55\n",
      "89\n"
     ]
    }
   ],
   "source": [
    "#fibonacci series\n",
    "n = int(input(\"enter the limit number\"))\n",
    "x = 0\n",
    "y = 1\n",
    "z = 0\n",
    "while(z<=n):\n",
    "    print(z)\n",
    "    x = y\n",
    "    y = z\n",
    "    z = x+y"
   ]
  },
  {
   "cell_type": "code",
   "execution_count": 5,
   "id": "03dffa7b-030e-44c7-9c81-a249c3b5a82b",
   "metadata": {},
   "outputs": [
    {
     "name": "stdin",
     "output_type": "stream",
     "text": [
      "enter number of roms: 100\n"
     ]
    },
    {
     "name": "stdout",
     "output_type": "stream",
     "text": [
      "x \n",
      "x x \n",
      "x x x \n",
      "x x x x \n",
      "x x x x x \n",
      "x x x x x x \n",
      "x x x x x x x \n",
      "x x x x x x x x \n",
      "x x x x x x x x x \n",
      "x x x x x x x x x x \n",
      "x x x x x x x x x x x \n",
      "x x x x x x x x x x x x \n",
      "x x x x x x x x x x x x x \n",
      "x x x x x x x x x x x x x x \n",
      "x x x x x x x x x x x x x x x \n",
      "x x x x x x x x x x x x x x x x \n",
      "x x x x x x x x x x x x x x x x x \n",
      "x x x x x x x x x x x x x x x x x x \n",
      "x x x x x x x x x x x x x x x x x x x \n",
      "x x x x x x x x x x x x x x x x x x x x \n",
      "x x x x x x x x x x x x x x x x x x x x x \n",
      "x x x x x x x x x x x x x x x x x x x x x x \n",
      "x x x x x x x x x x x x x x x x x x x x x x x \n",
      "x x x x x x x x x x x x x x x x x x x x x x x x \n",
      "x x x x x x x x x x x x x x x x x x x x x x x x x \n",
      "x x x x x x x x x x x x x x x x x x x x x x x x x x \n",
      "x x x x x x x x x x x x x x x x x x x x x x x x x x x \n",
      "x x x x x x x x x x x x x x x x x x x x x x x x x x x x \n",
      "x x x x x x x x x x x x x x x x x x x x x x x x x x x x x \n",
      "x x x x x x x x x x x x x x x x x x x x x x x x x x x x x x \n",
      "x x x x x x x x x x x x x x x x x x x x x x x x x x x x x x x \n",
      "x x x x x x x x x x x x x x x x x x x x x x x x x x x x x x x x \n",
      "x x x x x x x x x x x x x x x x x x x x x x x x x x x x x x x x x \n",
      "x x x x x x x x x x x x x x x x x x x x x x x x x x x x x x x x x x \n",
      "x x x x x x x x x x x x x x x x x x x x x x x x x x x x x x x x x x x \n",
      "x x x x x x x x x x x x x x x x x x x x x x x x x x x x x x x x x x x x \n",
      "x x x x x x x x x x x x x x x x x x x x x x x x x x x x x x x x x x x x x \n",
      "x x x x x x x x x x x x x x x x x x x x x x x x x x x x x x x x x x x x x x \n",
      "x x x x x x x x x x x x x x x x x x x x x x x x x x x x x x x x x x x x x x x \n",
      "x x x x x x x x x x x x x x x x x x x x x x x x x x x x x x x x x x x x x x x x \n",
      "x x x x x x x x x x x x x x x x x x x x x x x x x x x x x x x x x x x x x x x x x \n",
      "x x x x x x x x x x x x x x x x x x x x x x x x x x x x x x x x x x x x x x x x x x \n",
      "x x x x x x x x x x x x x x x x x x x x x x x x x x x x x x x x x x x x x x x x x x x \n",
      "x x x x x x x x x x x x x x x x x x x x x x x x x x x x x x x x x x x x x x x x x x x x \n",
      "x x x x x x x x x x x x x x x x x x x x x x x x x x x x x x x x x x x x x x x x x x x x x \n",
      "x x x x x x x x x x x x x x x x x x x x x x x x x x x x x x x x x x x x x x x x x x x x x x \n",
      "x x x x x x x x x x x x x x x x x x x x x x x x x x x x x x x x x x x x x x x x x x x x x x x \n",
      "x x x x x x x x x x x x x x x x x x x x x x x x x x x x x x x x x x x x x x x x x x x x x x x x \n",
      "x x x x x x x x x x x x x x x x x x x x x x x x x x x x x x x x x x x x x x x x x x x x x x x x x \n",
      "x x x x x x x x x x x x x x x x x x x x x x x x x x x x x x x x x x x x x x x x x x x x x x x x x x \n",
      "x x x x x x x x x x x x x x x x x x x x x x x x x x x x x x x x x x x x x x x x x x x x x x x x x x x \n",
      "x x x x x x x x x x x x x x x x x x x x x x x x x x x x x x x x x x x x x x x x x x x x x x x x x x x x \n",
      "x x x x x x x x x x x x x x x x x x x x x x x x x x x x x x x x x x x x x x x x x x x x x x x x x x x x x \n",
      "x x x x x x x x x x x x x x x x x x x x x x x x x x x x x x x x x x x x x x x x x x x x x x x x x x x x x x \n",
      "x x x x x x x x x x x x x x x x x x x x x x x x x x x x x x x x x x x x x x x x x x x x x x x x x x x x x x x \n",
      "x x x x x x x x x x x x x x x x x x x x x x x x x x x x x x x x x x x x x x x x x x x x x x x x x x x x x x x x \n",
      "x x x x x x x x x x x x x x x x x x x x x x x x x x x x x x x x x x x x x x x x x x x x x x x x x x x x x x x x x \n",
      "x x x x x x x x x x x x x x x x x x x x x x x x x x x x x x x x x x x x x x x x x x x x x x x x x x x x x x x x x x \n",
      "x x x x x x x x x x x x x x x x x x x x x x x x x x x x x x x x x x x x x x x x x x x x x x x x x x x x x x x x x x x \n",
      "x x x x x x x x x x x x x x x x x x x x x x x x x x x x x x x x x x x x x x x x x x x x x x x x x x x x x x x x x x x x \n",
      "x x x x x x x x x x x x x x x x x x x x x x x x x x x x x x x x x x x x x x x x x x x x x x x x x x x x x x x x x x x x x \n",
      "x x x x x x x x x x x x x x x x x x x x x x x x x x x x x x x x x x x x x x x x x x x x x x x x x x x x x x x x x x x x x x \n",
      "x x x x x x x x x x x x x x x x x x x x x x x x x x x x x x x x x x x x x x x x x x x x x x x x x x x x x x x x x x x x x x x \n",
      "x x x x x x x x x x x x x x x x x x x x x x x x x x x x x x x x x x x x x x x x x x x x x x x x x x x x x x x x x x x x x x x x \n",
      "x x x x x x x x x x x x x x x x x x x x x x x x x x x x x x x x x x x x x x x x x x x x x x x x x x x x x x x x x x x x x x x x x \n",
      "x x x x x x x x x x x x x x x x x x x x x x x x x x x x x x x x x x x x x x x x x x x x x x x x x x x x x x x x x x x x x x x x x x \n",
      "x x x x x x x x x x x x x x x x x x x x x x x x x x x x x x x x x x x x x x x x x x x x x x x x x x x x x x x x x x x x x x x x x x x \n",
      "x x x x x x x x x x x x x x x x x x x x x x x x x x x x x x x x x x x x x x x x x x x x x x x x x x x x x x x x x x x x x x x x x x x x \n",
      "x x x x x x x x x x x x x x x x x x x x x x x x x x x x x x x x x x x x x x x x x x x x x x x x x x x x x x x x x x x x x x x x x x x x x \n",
      "x x x x x x x x x x x x x x x x x x x x x x x x x x x x x x x x x x x x x x x x x x x x x x x x x x x x x x x x x x x x x x x x x x x x x x \n",
      "x x x x x x x x x x x x x x x x x x x x x x x x x x x x x x x x x x x x x x x x x x x x x x x x x x x x x x x x x x x x x x x x x x x x x x x \n",
      "x x x x x x x x x x x x x x x x x x x x x x x x x x x x x x x x x x x x x x x x x x x x x x x x x x x x x x x x x x x x x x x x x x x x x x x x \n",
      "x x x x x x x x x x x x x x x x x x x x x x x x x x x x x x x x x x x x x x x x x x x x x x x x x x x x x x x x x x x x x x x x x x x x x x x x x \n",
      "x x x x x x x x x x x x x x x x x x x x x x x x x x x x x x x x x x x x x x x x x x x x x x x x x x x x x x x x x x x x x x x x x x x x x x x x x x \n",
      "x x x x x x x x x x x x x x x x x x x x x x x x x x x x x x x x x x x x x x x x x x x x x x x x x x x x x x x x x x x x x x x x x x x x x x x x x x x \n",
      "x x x x x x x x x x x x x x x x x x x x x x x x x x x x x x x x x x x x x x x x x x x x x x x x x x x x x x x x x x x x x x x x x x x x x x x x x x x x \n",
      "x x x x x x x x x x x x x x x x x x x x x x x x x x x x x x x x x x x x x x x x x x x x x x x x x x x x x x x x x x x x x x x x x x x x x x x x x x x x x \n",
      "x x x x x x x x x x x x x x x x x x x x x x x x x x x x x x x x x x x x x x x x x x x x x x x x x x x x x x x x x x x x x x x x x x x x x x x x x x x x x x \n",
      "x x x x x x x x x x x x x x x x x x x x x x x x x x x x x x x x x x x x x x x x x x x x x x x x x x x x x x x x x x x x x x x x x x x x x x x x x x x x x x x \n",
      "x x x x x x x x x x x x x x x x x x x x x x x x x x x x x x x x x x x x x x x x x x x x x x x x x x x x x x x x x x x x x x x x x x x x x x x x x x x x x x x x \n",
      "x x x x x x x x x x x x x x x x x x x x x x x x x x x x x x x x x x x x x x x x x x x x x x x x x x x x x x x x x x x x x x x x x x x x x x x x x x x x x x x x x \n",
      "x x x x x x x x x x x x x x x x x x x x x x x x x x x x x x x x x x x x x x x x x x x x x x x x x x x x x x x x x x x x x x x x x x x x x x x x x x x x x x x x x x \n",
      "x x x x x x x x x x x x x x x x x x x x x x x x x x x x x x x x x x x x x x x x x x x x x x x x x x x x x x x x x x x x x x x x x x x x x x x x x x x x x x x x x x x \n",
      "x x x x x x x x x x x x x x x x x x x x x x x x x x x x x x x x x x x x x x x x x x x x x x x x x x x x x x x x x x x x x x x x x x x x x x x x x x x x x x x x x x x x \n",
      "x x x x x x x x x x x x x x x x x x x x x x x x x x x x x x x x x x x x x x x x x x x x x x x x x x x x x x x x x x x x x x x x x x x x x x x x x x x x x x x x x x x x x \n",
      "x x x x x x x x x x x x x x x x x x x x x x x x x x x x x x x x x x x x x x x x x x x x x x x x x x x x x x x x x x x x x x x x x x x x x x x x x x x x x x x x x x x x x x \n",
      "x x x x x x x x x x x x x x x x x x x x x x x x x x x x x x x x x x x x x x x x x x x x x x x x x x x x x x x x x x x x x x x x x x x x x x x x x x x x x x x x x x x x x x x \n",
      "x x x x x x x x x x x x x x x x x x x x x x x x x x x x x x x x x x x x x x x x x x x x x x x x x x x x x x x x x x x x x x x x x x x x x x x x x x x x x x x x x x x x x x x x \n",
      "x x x x x x x x x x x x x x x x x x x x x x x x x x x x x x x x x x x x x x x x x x x x x x x x x x x x x x x x x x x x x x x x x x x x x x x x x x x x x x x x x x x x x x x x x \n",
      "x x x x x x x x x x x x x x x x x x x x x x x x x x x x x x x x x x x x x x x x x x x x x x x x x x x x x x x x x x x x x x x x x x x x x x x x x x x x x x x x x x x x x x x x x x \n",
      "x x x x x x x x x x x x x x x x x x x x x x x x x x x x x x x x x x x x x x x x x x x x x x x x x x x x x x x x x x x x x x x x x x x x x x x x x x x x x x x x x x x x x x x x x x x \n",
      "x x x x x x x x x x x x x x x x x x x x x x x x x x x x x x x x x x x x x x x x x x x x x x x x x x x x x x x x x x x x x x x x x x x x x x x x x x x x x x x x x x x x x x x x x x x x \n",
      "x x x x x x x x x x x x x x x x x x x x x x x x x x x x x x x x x x x x x x x x x x x x x x x x x x x x x x x x x x x x x x x x x x x x x x x x x x x x x x x x x x x x x x x x x x x x x \n",
      "x x x x x x x x x x x x x x x x x x x x x x x x x x x x x x x x x x x x x x x x x x x x x x x x x x x x x x x x x x x x x x x x x x x x x x x x x x x x x x x x x x x x x x x x x x x x x x \n",
      "x x x x x x x x x x x x x x x x x x x x x x x x x x x x x x x x x x x x x x x x x x x x x x x x x x x x x x x x x x x x x x x x x x x x x x x x x x x x x x x x x x x x x x x x x x x x x x x \n",
      "x x x x x x x x x x x x x x x x x x x x x x x x x x x x x x x x x x x x x x x x x x x x x x x x x x x x x x x x x x x x x x x x x x x x x x x x x x x x x x x x x x x x x x x x x x x x x x x x \n",
      "x x x x x x x x x x x x x x x x x x x x x x x x x x x x x x x x x x x x x x x x x x x x x x x x x x x x x x x x x x x x x x x x x x x x x x x x x x x x x x x x x x x x x x x x x x x x x x x x x \n",
      "x x x x x x x x x x x x x x x x x x x x x x x x x x x x x x x x x x x x x x x x x x x x x x x x x x x x x x x x x x x x x x x x x x x x x x x x x x x x x x x x x x x x x x x x x x x x x x x x x x \n",
      "x x x x x x x x x x x x x x x x x x x x x x x x x x x x x x x x x x x x x x x x x x x x x x x x x x x x x x x x x x x x x x x x x x x x x x x x x x x x x x x x x x x x x x x x x x x x x x x x x x x \n",
      "x x x x x x x x x x x x x x x x x x x x x x x x x x x x x x x x x x x x x x x x x x x x x x x x x x x x x x x x x x x x x x x x x x x x x x x x x x x x x x x x x x x x x x x x x x x x x x x x x x x x \n"
     ]
    }
   ],
   "source": [
    "num = int(input(\"enter number of roms:\"))\n",
    "for i in range(1,num+1):\n",
    "    for j in range(1,i+1):\n",
    "        print(\"x\",end=\" \")\n",
    "    print()"
   ]
  },
  {
   "cell_type": "code",
   "execution_count": null,
   "id": "b8b0f78b-8914-4722-ba31-b07a1a95a3f6",
   "metadata": {},
   "outputs": [],
   "source": []
  }
 ],
 "metadata": {
  "kernelspec": {
   "display_name": "Python [conda env:base] *",
   "language": "python",
   "name": "conda-base-py"
  },
  "language_info": {
   "codemirror_mode": {
    "name": "ipython",
    "version": 3
   },
   "file_extension": ".py",
   "mimetype": "text/x-python",
   "name": "python",
   "nbconvert_exporter": "python",
   "pygments_lexer": "ipython3",
   "version": "3.12.7"
  }
 },
 "nbformat": 4,
 "nbformat_minor": 5
}
