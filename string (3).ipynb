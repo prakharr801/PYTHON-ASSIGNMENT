{
 "cells": [
  {
   "cell_type": "code",
   "execution_count": 20,
   "id": "ae2487b1-cde5-49e6-abfc-3e4c806a00b4",
   "metadata": {},
   "outputs": [
    {
     "name": "stdout",
     "output_type": "stream",
     "text": [
      "12 e llo orl\n"
     ]
    }
   ],
   "source": [
    "a=\"hellow world\"\n",
    "print(len(a),a[1],a[2:5],a[-4:-1])\n"
   ]
  },
  {
   "cell_type": "code",
   "execution_count": 28,
   "id": "7f781e74-2566-4df4-8d15-cbb687a6a249",
   "metadata": {},
   "outputs": [
    {
     "data": {
      "text/plain": [
       "'data = [10,20,30,40,50]\\ndef median(data):\\n    data.sort()\\n    n=len(data)\\n    if n%2==1:\\n        return data[n//2]\\n    else:\\n        a = [n//2-1]\\n        b = [n//2]\\n        return (a+b)/2\\nprint(median(data))'"
      ]
     },
     "execution_count": 28,
     "metadata": {},
     "output_type": "execute_result"
    }
   ],
   "source": [
    "# data = [10,20,30,40,50]\n",
    "# def median(data):\n",
    "#     data.sort()\n",
    "#     n=len(data)\n",
    "#     if n%2==1:\n",
    "#         return data[n//2]\n",
    "#     else:\n",
    "#         a = [n//2-1]\n",
    "#         b = [n//2]\n",
    "#         return (a+b)/2\n",
    "# print(median(data))\n",
    "    "
   ]
  },
  {
   "cell_type": "code",
   "execution_count": 1,
   "id": "12374b83-50d9-4ee5-b970-21601a4d38f4",
   "metadata": {},
   "outputs": [
    {
     "name": "stdout",
     "output_type": "stream",
     "text": [
      "HELLOW WORLD!\n"
     ]
    }
   ],
   "source": [
    "#to do in cappital letter\n",
    "h = 'hellow world!'\n",
    "print(h.upper())"
   ]
  },
  {
   "cell_type": "code",
   "execution_count": 7,
   "id": "c3f85960-88c8-4ce5-b2fc-ebdbb7bbe23a",
   "metadata": {},
   "outputs": [
    {
     "name": "stdout",
     "output_type": "stream",
     "text": [
      "hellow,world!\n"
     ]
    }
   ],
   "source": [
    "#for smaal letter\n",
    "c= 'HELLOW,WORLD!'\n",
    "print(c.lower())\n"
   ]
  },
  {
   "cell_type": "code",
   "execution_count": 9,
   "id": "e6e0bef5-fe3e-4e61-a413-90add31fed4a",
   "metadata": {},
   "outputs": [
    {
     "data": {
      "text/plain": [
       "'hellowworld'"
      ]
     },
     "execution_count": 9,
     "metadata": {},
     "output_type": "execute_result"
    }
   ],
   "source": [
    "#sring concatenation\n",
    "a=\"hellow\"\n",
    "b=\"world\"\n",
    "v= a+b\n",
    "v"
   ]
  },
  {
   "cell_type": "code",
   "execution_count": 11,
   "id": "1b07584f-c727-48a6-b258-8c954f3bd688",
   "metadata": {},
   "outputs": [
    {
     "name": "stdout",
     "output_type": "stream",
     "text": [
      "hellow world\n"
     ]
    }
   ],
   "source": [
    "a = 'hellow'\n",
    "b='world'\n",
    "c= a+\" \"+b\n",
    "print(c)"
   ]
  },
  {
   "cell_type": "code",
   "execution_count": 13,
   "id": "5fbf5055-f5b1-4e96-ab7a-303280e880e1",
   "metadata": {},
   "outputs": [
    {
     "name": "stdout",
     "output_type": "stream",
     "text": [
      "my name is john,and i am 36 years old\n"
     ]
    }
   ],
   "source": [
    "#to combine to differten data type \n",
    "age = 36\n",
    "txt = \"my name is john,and i am {} years old\"\n",
    "print(txt.format(age))"
   ]
  },
  {
   "cell_type": "code",
   "execution_count": 15,
   "id": "1255a212-f3d8-4962-a444-376141df256d",
   "metadata": {},
   "outputs": [
    {
     "name": "stdout",
     "output_type": "stream",
     "text": [
      "i want 3 pices of item 567 fori want {} pices of item {} for{} dollars. dollars.\n"
     ]
    }
   ],
   "source": [
    "quan = 3\n",
    "item= 567\n",
    "price= 49.95\n",
    "myorder = \"i want {} pices of item {} for{} dollars.\"\n",
    "print(myorder.format(quan,item,myorder))"
   ]
  },
  {
   "cell_type": "code",
   "execution_count": 17,
   "id": "feb789d6-a4fa-4c1c-90c3-e5cbdfc25572",
   "metadata": {},
   "outputs": [
    {
     "name": "stdout",
     "output_type": "stream",
     "text": [
      "we are the so-called \"viking\" from the north.\n"
     ]
    }
   ],
   "source": [
    "txt=\"we are the so-called \\\"viking\\\" from the north.\"\n",
    "print(txt)"
   ]
  },
  {
   "cell_type": "code",
   "execution_count": 3,
   "id": "377a304d-efef-4e84-950a-57e7eb0a1a8e",
   "metadata": {},
   "outputs": [
    {
     "name": "stdout",
     "output_type": "stream",
     "text": [
      "Hellow world my name is prakhar\n"
     ]
    }
   ],
   "source": [
    "#capitalized() method\n",
    "txt='hellow world my name is prakhar'\n",
    "x= txt.capitalize()\n",
    "print(x)"
   ]
  },
  {
   "cell_type": "code",
   "execution_count": 5,
   "id": "3c0d8f97-44f1-4dc7-8621-85b8094d0364",
   "metadata": {},
   "outputs": [
    {
     "name": "stdout",
     "output_type": "stream",
     "text": [
      "Wellocm In My World\n"
     ]
    }
   ],
   "source": [
    "#the first letter is capalized and resr are small\n",
    "txt='wellocm in my world'\n",
    "v = txt.title()\n",
    "print(v)"
   ]
  },
  {
   "cell_type": "code",
   "execution_count": 7,
   "id": "0ab41e87-0cd2-403a-859b-6bef509c5a2f",
   "metadata": {},
   "outputs": [
    {
     "name": "stdout",
     "output_type": "stream",
     "text": [
      "2\n"
     ]
    }
   ],
   "source": [
    "#to count () method\n",
    "txt = 'i love apple,apple is my favorite fruit'\n",
    "x=txt.count('apple')\n",
    "print(x)"
   ]
  },
  {
   "cell_type": "code",
   "execution_count": 13,
   "id": "7fe8f7dc-93b9-4d67-bfc5-f0df24112fe8",
   "metadata": {},
   "outputs": [
    {
     "name": "stdout",
     "output_type": "stream",
     "text": [
      "1\n"
     ]
    }
   ],
   "source": [
    "#string count (value,start,stop)\n",
    "txt = 'i love apple,apple is my favorite fruit'\n",
    "x=txt.count('apple',10,24)\n",
    "print(x)"
   ]
  },
  {
   "cell_type": "code",
   "execution_count": 17,
   "id": "bd54c7e6-6145-4ec3-a122-f1bc6893279e",
   "metadata": {},
   "outputs": [
    {
     "name": "stdout",
     "output_type": "stream",
     "text": [
      "34\n"
     ]
    }
   ],
   "source": [
    "#find()\n",
    "txt='i love apple,apple is my favorite fruit'\n",
    "x = txt.find('fruit')\n",
    "print(x)"
   ]
  },
  {
   "cell_type": "code",
   "execution_count": 19,
   "id": "81502349-ab08-435c-ac25-66e782f5710b",
   "metadata": {},
   "outputs": [
    {
     "name": "stdout",
     "output_type": "stream",
     "text": [
      "19\n"
     ]
    }
   ],
   "source": [
    "#find(value,start stop)\n",
    "txt = 'i love apple,apple is my favorite fruit'\n",
    "x=txt.find('is',10,25)\n",
    "print(x)"
   ]
  },
  {
   "cell_type": "code",
   "execution_count": 21,
   "id": "221d6d54-ca1a-4f4c-a5a2-9ab465eb437f",
   "metadata": {},
   "outputs": [
    {
     "name": "stdout",
     "output_type": "stream",
     "text": [
      "7\n"
     ]
    }
   ],
   "source": [
    "#to find index\n",
    "txt='i love apple,apple is my favorite fruit'\n",
    "x=txt.index(\"apple\")\n",
    "print(x)"
   ]
  },
  {
   "cell_type": "code",
   "execution_count": 27,
   "id": "91c0cf83-36be-484d-8714-beeec24a94d2",
   "metadata": {},
   "outputs": [
    {
     "name": "stdout",
     "output_type": "stream",
     "text": [
      "of all fruits banana is my fav\n"
     ]
    }
   ],
   "source": [
    "#remove space and begning and start at end\n",
    "txt='    banana    '\n",
    "x=txt.strip()\n",
    "print('of all fruits',x,'is my fav')"
   ]
  },
  {
   "cell_type": "code",
   "execution_count": 33,
   "id": "06f78bc0-e228-47b6-b71d-79e299f349fa",
   "metadata": {},
   "outputs": [
    {
     "name": "stdout",
     "output_type": "stream",
     "text": [
      "apple#ba#da\n"
     ]
    }
   ],
   "source": [
    "#to join\n",
    "my = ('apple','ba','da')\n",
    "x= '#' .join(my)\n",
    "print(x)"
   ]
  },
  {
   "cell_type": "code",
   "execution_count": 35,
   "id": "e81648b8-5af3-4754-baa4-981b02e69486",
   "metadata": {},
   "outputs": [
    {
     "name": "stdout",
     "output_type": "stream",
     "text": [
      "i like apple\n"
     ]
    }
   ],
   "source": [
    "txt=\"i like banana\"\n",
    "x= txt.replace('banana','apple')\n",
    "print(x)"
   ]
  },
  {
   "cell_type": "code",
   "execution_count": 37,
   "id": "3ab8f87b-182d-43c8-a460-a8cfc6acadd5",
   "metadata": {},
   "outputs": [
    {
     "name": "stdout",
     "output_type": "stream",
     "text": [
      "['i', 'love', 'apple,apple', 'is', 'my', 'favorite', 'fruit']\n"
     ]
    }
   ],
   "source": [
    "#split method\n",
    "txt='i love apple,apple is my favorite fruit'\n",
    "x=txt.split()\n",
    "print(x)"
   ]
  },
  {
   "cell_type": "code",
   "execution_count": 41,
   "id": "6763458e-b201-4f74-b64d-fe119646fa67",
   "metadata": {},
   "outputs": [
    {
     "name": "stdout",
     "output_type": "stream",
     "text": [
      "['addfgff fgreg', 'tyyurwttn rgyew', 'yu wrt', 'twth']\n"
     ]
    }
   ],
   "source": [
    "#split at place given\n",
    "txt='addfgff fgreg,tyyurwttn rgyew,yu wrt,twth'\n",
    "x=txt.split(',')\n",
    "print(x)"
   ]
  },
  {
   "cell_type": "code",
   "execution_count": null,
   "id": "8146800e-83df-45b7-83ee-7526581854f4",
   "metadata": {},
   "outputs": [],
   "source": []
  }
 ],
 "metadata": {
  "kernelspec": {
   "display_name": "Python [conda env:base] *",
   "language": "python",
   "name": "conda-base-py"
  },
  "language_info": {
   "codemirror_mode": {
    "name": "ipython",
    "version": 3
   },
   "file_extension": ".py",
   "mimetype": "text/x-python",
   "name": "python",
   "nbconvert_exporter": "python",
   "pygments_lexer": "ipython3",
   "version": "3.12.7"
  }
 },
 "nbformat": 4,
 "nbformat_minor": 5
}
