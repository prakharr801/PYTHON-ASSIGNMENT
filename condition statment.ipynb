{
 "cells": [
  {
   "cell_type": "code",
   "execution_count": 9,
   "id": "bbcd9cbc-e49c-4137-b824-5b2fd2e31978",
   "metadata": {},
   "outputs": [
    {
     "name": "stdin",
     "output_type": "stream",
     "text": [
      "enter game name: hhk\n"
     ]
    },
    {
     "name": "stdout",
     "output_type": "stream",
     "text": [
      "offline game\n"
     ]
    }
   ],
   "source": [
    "game = input(\"enter game name:\")\n",
    "\n",
    "if (game == \"bgmi\"):\n",
    "    print(\"multiplayer game\")\n",
    "elif(game == \"candy crush\"):\n",
    "    print(\"single player game\")\n",
    "elif(game == \"cod\"):\n",
    "    print(\"battle game\")\n",
    "elif(game == \"valo\"):\n",
    "    print(\"group game\")\n",
    "else:\n",
    "    print(\"offline game\")"
   ]
  },
  {
   "cell_type": "code",
   "execution_count": 1,
   "id": "882f3abd-72f5-4ba7-8a63-9562fd323769",
   "metadata": {},
   "outputs": [
    {
     "name": "stdin",
     "output_type": "stream",
     "text": [
      "no: 3\n"
     ]
    },
    {
     "name": "stdout",
     "output_type": "stream",
     "text": [
      "odd\n"
     ]
    }
   ],
   "source": [
    "n = int(input(\"no:\"))\n",
    "\n",
    "if(n %2==0):\n",
    "    print(\"even\")\n",
    "else:\n",
    "    print(\"odd\")"
   ]
  },
  {
   "cell_type": "code",
   "execution_count": 23,
   "id": "ef5ec1b4-eb8a-40aa-9754-e4ea72d4b735",
   "metadata": {},
   "outputs": [
    {
     "name": "stdin",
     "output_type": "stream",
     "text": [
      "enter light colour: green\n"
     ]
    },
    {
     "name": "stdout",
     "output_type": "stream",
     "text": [
      "go\n"
     ]
    }
   ],
   "source": [
    "#trafiic light code\n",
    "light_col = input(\"enter light colour:\")\n",
    "\n",
    "if(light_col == \"red\"):\n",
    "    print(\"stop\")\n",
    "elif(light_col == \"yellow\"):\n",
    "    print(\"slow down\")\n",
    "else:\n",
    "    print(\"go\")"
   ]
  },
  {
   "cell_type": "code",
   "execution_count": 15,
   "id": "c976a862-738b-4ade-ad66-d45a446537fb",
   "metadata": {},
   "outputs": [
    {
     "name": "stdin",
     "output_type": "stream",
     "text": [
      "enter no.: 77\n"
     ]
    },
    {
     "name": "stdout",
     "output_type": "stream",
     "text": [
      "data not given\n"
     ]
    }
   ],
   "source": [
    "number = int(input(\"enter no.:\"))\n",
    "if(number % 2 == 0):\n",
    "    print(\"no. is divided by 2\")\n",
    "elif(number % 3 ==0):\n",
    "    print(\"no. is divided by 3\")\n",
    "elif(number % 5 == 0):\n",
    "    print(\"no. is divided by 5\")\n",
    "else:\n",
    "    print(\"data not given\")\n",
    "\n",
    "\n"
   ]
  },
  {
   "cell_type": "code",
   "execution_count": 17,
   "id": "ee44aeb6-a2ea-48ac-95b0-265329612399",
   "metadata": {},
   "outputs": [
    {
     "name": "stdin",
     "output_type": "stream",
     "text": [
      "enter no: 5\n",
      "enter no: 7\n"
     ]
    },
    {
     "name": "stdout",
     "output_type": "stream",
     "text": [
      "b is greater than a\n"
     ]
    }
   ],
   "source": [
    "a = int(input(\"enter no:\"))\n",
    "b = int(input(\"enter no:\"))\n",
    "\n",
    "if(a > b):\n",
    "    print(\"a is greater than b\")\n",
    "elif(a==b):\n",
    "    print(\"a and b are equal\")\n",
    "else:\n",
    "    print(\"b is greater than a\")\n",
    "    "
   ]
  },
  {
   "cell_type": "code",
   "execution_count": 25,
   "id": "4e61dba8-56c6-41cd-a981-336f7a2940cd",
   "metadata": {},
   "outputs": [
    {
     "name": "stdin",
     "output_type": "stream",
     "text": [
      "enter no.: 6\n"
     ]
    },
    {
     "name": "stdout",
     "output_type": "stream",
     "text": [
      "positive\n"
     ]
    }
   ],
   "source": [
    "#nested form \n",
    "a = int(input(\"enter no.:\"))\n",
    "\n",
    "if(a>=0):\n",
    "    if(a == 0):\n",
    "        print(\"zero\")\n",
    "    else:\n",
    "        print(\"positive\")\n",
    "else:\n",
    "    print(\"negative\")\n"
   ]
  },
  {
   "cell_type": "code",
   "execution_count": 29,
   "id": "6e6cf462-3bce-41f3-8ffe-fb4c66fb3cca",
   "metadata": {},
   "outputs": [
    {
     "name": "stdin",
     "output_type": "stream",
     "text": [
      "enter no.a: 5\n",
      "enter no.:b 6\n",
      "enter no.:c 7\n"
     ]
    },
    {
     "name": "stdout",
     "output_type": "stream",
     "text": [
      "c is greatest no.\n"
     ]
    }
   ],
   "source": [
    "a = int(input(\"enter no.a:\"))\n",
    "b = int(input(\"enter no.:b\"))\n",
    "c = int(input(\"enter no.:c\"))\n",
    "\n",
    "if(a>b) and (b>c):\n",
    "    print(\"a is greatest no.\")\n",
    "elif(b>a) and (a>c):\n",
    "    print(\"b is greatest no.\")\n",
    "else:\n",
    "    print(\"c is greatest no.\")"
   ]
  },
  {
   "cell_type": "code",
   "execution_count": 17,
   "id": "548f7587-aa9c-4e26-ac9e-29c8d9cd2d26",
   "metadata": {},
   "outputs": [
    {
     "name": "stdin",
     "output_type": "stream",
     "text": [
      "enter year: 1900\n"
     ]
    },
    {
     "name": "stdout",
     "output_type": "stream",
     "text": [
      "not a leap year\n"
     ]
    }
   ],
   "source": [
    "#leap year code\n",
    "year = int(input(\"enter year:\"))\n",
    "\n",
    "if(year % 400==0) and (year % 100 == 0):\n",
    "    print(\"leap year\")\n",
    "elif(year % 4 == 0) and (year % 100 != 0):\n",
    "    print(\"leap year\")\n",
    "else:\n",
    "    print(\"not a leap year\")\n"
   ]
  },
  {
   "cell_type": "code",
   "execution_count": null,
   "id": "5ea00d75-361c-4858-8cc1-a6d5c29074e4",
   "metadata": {},
   "outputs": [],
   "source": [
    "a = int(input(\"enter no:\"))\n",
    "b= int(input(\"enter no:\"))\n",
    "\n",
    "sum = (a + b)\n",
    "mul = (a*b)\n",
    "divi = (a/b)\n",
    "sub = (a-b)\n",
    "\n",
    "\n"
   ]
  },
  {
   "cell_type": "code",
   "execution_count": 1,
   "id": "b3e20c96-05a5-45e7-9d0e-36731d6374ad",
   "metadata": {},
   "outputs": [
    {
     "name": "stdin",
     "output_type": "stream",
     "text": [
      "Enter first number:  4\n",
      "Enter second number:  3\n",
      "Enter operation (+, -, *, /):  -\n"
     ]
    },
    {
     "name": "stdout",
     "output_type": "stream",
     "text": [
      "Result: 1\n"
     ]
    }
   ],
   "source": [
    "#  calculator\n",
    "a = int(input(\"Enter first number: \"))\n",
    "b = int(input(\"Enter second number: \"))\n",
    "operation = input(\"Enter operation (+, -, *, /): \")\n",
    "\n",
    "if operation == '+':\n",
    "    print(f\"Result: {a + b}\")\n",
    "elif operation == '-':\n",
    "    print(f\"Result: {a - b}\")\n",
    "elif operation == '*':\n",
    "    print(f\"Result: {a * b}\")\n",
    "elif operation == '/':\n",
    "     print(f\"Result: {a / b}\" if num2 != 0 else \"Error! Division by zero.\")\n",
    "else:\n",
    "    print(\"Invalid operation.\")"
   ]
  },
  {
   "cell_type": "code",
   "execution_count": 33,
   "id": "103617c3-e435-4660-8ca3-34bf8ff3458d",
   "metadata": {},
   "outputs": [
    {
     "name": "stdout",
     "output_type": "stream",
     "text": [
      "40 10\n"
     ]
    }
   ],
   "source": [
    "a = 10\n",
    "b = 40\n",
    "a,b=b,a\n",
    "print(a,b)"
   ]
  },
  {
   "cell_type": "code",
   "execution_count": 29,
   "id": "444897c3-0ee8-425c-8b12-4336b2843a10",
   "metadata": {},
   "outputs": [
    {
     "name": "stdout",
     "output_type": "stream",
     "text": [
      "Modified List: [5, 2, 3, 4, 1]\n"
     ]
    }
   ],
   "source": [
    "lst = [1, 2, 3, 4, 5]\n",
    "lst[0], lst[-1] = lst[-1], lst[0]\n",
    "\n",
    "print(\"Modified List:\", lst)"
   ]
  },
  {
   "cell_type": "code",
   "execution_count": 1,
   "id": "913ebeeb-2413-427c-a768-4016ccae7164",
   "metadata": {},
   "outputs": [
    {
     "name": "stdin",
     "output_type": "stream",
     "text": [
      "enter first no.: 3\n",
      "enter second no.: 4\n",
      "enter(+,-,*,/): *\n"
     ]
    },
    {
     "name": "stdout",
     "output_type": "stream",
     "text": [
      "12\n"
     ]
    }
   ],
   "source": [
    "a = int(input(\"enter first no.:\"))\n",
    "b = int(input(\"enter second no.:\"))\n",
    "operation = input(\"enter(+,-,*,/):\")\n",
    "\n",
    "\n",
    "if operation == \"+\":\n",
    "    print(a+b)\n",
    "elif operation == \"-\":\n",
    "    print(a-b)\n",
    "elif operation == \"/\":\n",
    "    print(a/b)\n",
    "elif operation == \"*\":\n",
    "    print(a*b)\n",
    "else:\n",
    "    print(\"invalid sintex\")\n"
   ]
  },
  {
   "cell_type": "code",
   "execution_count": 3,
   "id": "61a7f7de-de8c-411e-94e2-2b3609ee7b55",
   "metadata": {},
   "outputs": [
    {
     "data": {
      "text/plain": [
       "[5, 2, 3, 4, 1]"
      ]
     },
     "execution_count": 3,
     "metadata": {},
     "output_type": "execute_result"
    }
   ],
   "source": [
    "a = [1,2,3,4,5]\n",
    "a[0],a[-1]= a[-1],a[0]\n",
    "a"
   ]
  },
  {
   "cell_type": "code",
   "execution_count": 5,
   "id": "38a6f495-39c2-4ec5-9626-876a5caa2788",
   "metadata": {},
   "outputs": [
    {
     "name": "stdout",
     "output_type": "stream",
     "text": [
      "1\n",
      "2\n",
      "3\n",
      "4\n",
      "5\n",
      "6\n",
      "7\n",
      "8\n",
      "9\n",
      "10\n",
      "11\n",
      "12\n",
      "13\n",
      "14\n",
      "15\n",
      "16\n",
      "17\n",
      "18\n",
      "19\n",
      "20\n",
      "21\n",
      "22\n",
      "23\n",
      "24\n",
      "25\n",
      "26\n",
      "27\n",
      "28\n",
      "29\n",
      "30\n",
      "31\n",
      "32\n",
      "33\n",
      "34\n",
      "35\n",
      "36\n",
      "37\n",
      "38\n",
      "39\n",
      "40\n",
      "41\n",
      "42\n",
      "43\n",
      "44\n",
      "45\n",
      "46\n",
      "47\n",
      "48\n",
      "49\n",
      "50\n",
      "51\n",
      "52\n",
      "53\n",
      "54\n",
      "55\n",
      "56\n",
      "57\n",
      "58\n",
      "59\n",
      "60\n",
      "61\n",
      "62\n",
      "63\n",
      "64\n",
      "65\n",
      "66\n",
      "67\n",
      "68\n",
      "69\n",
      "70\n",
      "71\n",
      "72\n",
      "73\n",
      "74\n",
      "75\n",
      "76\n",
      "77\n",
      "78\n",
      "79\n",
      "80\n",
      "81\n",
      "82\n",
      "83\n",
      "84\n",
      "85\n",
      "86\n",
      "87\n",
      "88\n",
      "89\n",
      "90\n",
      "91\n",
      "92\n",
      "93\n",
      "94\n",
      "95\n",
      "96\n",
      "97\n",
      "98\n",
      "99\n",
      "100\n"
     ]
    }
   ],
   "source": [
    "i = 1\n",
    "while i<=100:\n",
    "    print(i)\n",
    "    i+=1"
   ]
  },
  {
   "cell_type": "code",
   "execution_count": null,
   "id": "4e9824c0-47ee-4779-a462-f7d38fc7e428",
   "metadata": {},
   "outputs": [],
   "source": [
    "a = int(input(\"enter num1:\"))\n",
    "b = int(input(\"enter num2:\"))\n",
    "if a > b:\n",
    "    print(\"max of\", a ,\"and\", b, \"is\", a)\n",
    "elif(a<b):\n",
    "    print(\"b is greater\")\n",
    "else:\n",
    "    print(\"both  are same\")"
   ]
  },
  {
   "cell_type": "code",
   "execution_count": null,
   "id": "bf286704-7fee-4b90-be56-bd2a24baa5ed",
   "metadata": {},
   "outputs": [],
   "source": [
    "def print_board(board):\n",
    "    for row in board:\n",
    "        print(\" | \".join(row))\n",
    "        print(\"---------\")\n",
    "\n",
    "def check_winner(board, player):\n",
    "    # Check rows, columns, and diagonals\n",
    "    for i in range(3):\n",
    "        if all(board[i][j] == player for j in range(3)) or \\\n",
    "           all(board[j][i] == player for j in range(3)):\n",
    "            return True\n",
    "    if all(board[i][i] == player for i in range(3)) or \\\n",
    "       all(board[i][2-i] == player for i in range(3)):\n",
    "        return True\n",
    "    return False\n",
    "\n",
    "def is_board_full(board):\n",
    "    return all(cell != \" \" for row in board for cell in row)\n",
    "2\n",
    "0\n",
    "\n",
    "def play_game():\n",
    "    board = [[\" \" for _ in range(3)] for _ in range(3)]\n",
    "    current_player = \"X\"\n",
    "\n",
    "    while True:\n",
    "        print_board(board)\n",
    "        row = int(input(f\"Player {current_player}, enter row (0-2): \"))\n",
    "        col = int(input(f\"Player {current_player}, enter column (0-2): \"))\n",
    "\n",
    "        if board[row][col] != \" \":\n",
    "            print(\"That cell is already occupied. Try again.\")\n",
    "            continue\n",
    "\n",
    "        board[row][col] = current_player\n",
    "\n",
    "        if check_winner(board, current_player):\n",
    "            print_board(board)\n",
    "            print(f\"Player {current_player} wins!\")\n",
    "            break\n",
    "\n",
    "        if is_board_full(board):\n",
    "            print_board(board)\n",
    "            print(\"It's a tie!\")\n",
    "            break\n",
    "\n",
    "        current_player = \"O\" if current_player == \"X\" else \"X\"\n",
    "\n",
    "if __name__ == \"__main__\":\n",
    "    play_game()"
   ]
  },
  {
   "cell_type": "code",
   "execution_count": null,
   "id": "a0474428-cf41-4a6d-8fa9-a277a279b6d7",
   "metadata": {},
   "outputs": [],
   "source": [
    "data =[1,2,4,6,3,8,6,3,6]\n",
    "def median(data):\n",
    "    data.sort()\n",
    "    n = len(data)\n",
    "    if (n%2==1):\n",
    "        return data[n//2]\n",
    "    else:\n",
    "        a = [n//2-1]\n",
    "        b = [n//2]\n",
    "        return(a+b)/2\n",
    "\n",
    "print(median(data))"
   ]
  },
  {
   "cell_type": "code",
   "execution_count": null,
   "id": "97e90d6a-53d8-4dbc-b59a-44324b2458b6",
   "metadata": {},
   "outputs": [],
   "source": []
  }
 ],
 "metadata": {
  "kernelspec": {
   "display_name": "Python [conda env:base] *",
   "language": "python",
   "name": "conda-base-py"
  },
  "language_info": {
   "codemirror_mode": {
    "name": "ipython",
    "version": 3
   },
   "file_extension": ".py",
   "mimetype": "text/x-python",
   "name": "python",
   "nbconvert_exporter": "python",
   "pygments_lexer": "ipython3",
   "version": "3.12.7"
  }
 },
 "nbformat": 4,
 "nbformat_minor": 5
}
