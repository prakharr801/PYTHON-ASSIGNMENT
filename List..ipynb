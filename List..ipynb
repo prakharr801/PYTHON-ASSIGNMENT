{
 "cells": [
  {
   "cell_type": "code",
   "execution_count": 1,
   "id": "e39fd793-feba-48f4-afd7-e5f51db853a6",
   "metadata": {},
   "outputs": [
    {
     "name": "stdout",
     "output_type": "stream",
     "text": [
      "Modified List: [5, 2, 3, 4, 1]\n"
     ]
    }
   ],
   "source": [
    "#list code \n",
    "\n",
    "#1.\tPython program to interchange first and last elements in a list\n",
    "# Swap first and last elements \n",
    "lst = [1, 2, 3, 4, 5]\n",
    "lst[0], lst[-1] = lst[-1], lst[0]\n",
    "\n",
    "print(\"Modified List:\", lst)"
   ]
  },
  {
   "cell_type": "code",
   "execution_count": 13,
   "id": "34b80bf1-59ce-40c2-9862-5deb56bd3c96",
   "metadata": {},
   "outputs": [
    {
     "name": "stdout",
     "output_type": "stream",
     "text": [
      "AFTER SWAPING TWO ELEMENTS: [1, 2, 3, 4, 5, 9, 7, 8, 6, 10]\n"
     ]
    }
   ],
   "source": [
    "#2.\tPython program to swap two elements in a list\n",
    "numb = [1,2,3,4,5,6,7,8,9,10]\n",
    "numb[5],numb[8] = numb[8],numb[5]\n",
    "print(\"AFTER SWAPING TWO ELEMENTS:\",numb)"
   ]
  },
  {
   "cell_type": "code",
   "execution_count": 3,
   "id": "c00d18fa-4d11-47e8-90fb-807a08a36e15",
   "metadata": {},
   "outputs": [
    {
     "name": "stdout",
     "output_type": "stream",
     "text": [
      "AFTER SWAPING TWO ELEMENTS: ['bgmi', 'valorant', 'gta', 'fortnite', 'cod', 'mafia']\n"
     ]
    }
   ],
   "source": [
    "#3.\tPython – Swap elements in String list\n",
    "game = [\"bgmi\",\"valorant\",\"cod\",\"fortnite\",\"gta\",\"mafia\"]\n",
    "game[2],game[4] = game[4],game[2]\n",
    "\n",
    "print(\"AFTER SWAPING TWO ELEMENTS:\",game)"
   ]
  },
  {
   "cell_type": "code",
   "execution_count": 15,
   "id": "9a5dab4b-5997-45f8-b2c8-b093ea7ff183",
   "metadata": {},
   "outputs": [
    {
     "name": "stdout",
     "output_type": "stream",
     "text": [
      "length of list: 6\n"
     ]
    }
   ],
   "source": [
    "#4.\tPython | Ways to find length of list\n",
    "game = [\"bgmi\",\"valorant\",\"cod\",\"fortnite\",\"gta\",\"mafia\"]\n",
    "print(\"length of list:\",len(game))"
   ]
  },
  {
   "cell_type": "code",
   "execution_count": 27,
   "id": "6c816cf3-2172-40f1-98ce-156c799fd6c3",
   "metadata": {},
   "outputs": [
    {
     "name": "stdin",
     "output_type": "stream",
     "text": [
      "enter num1: 10\n",
      "enter num2: 30\n"
     ]
    },
    {
     "name": "stdout",
     "output_type": "stream",
     "text": [
      "The maximum of 10 and 30 is 30\n"
     ]
    }
   ],
   "source": [
    "#5.\tMaximum of two numbers in Python\n",
    "num1 = int(input(\"enter num1:\"))\n",
    "num2 = int(input(\"enter num2:\"))\n",
    "maximum = max(num1, num2)\n",
    "print(\"The maximum of\", num1, \"and\", num2, \"is\", maximum)"
   ]
  },
  {
   "cell_type": "code",
   "execution_count": 41,
   "id": "063c8f20-70fc-4b0a-ba2f-caf745d99b91",
   "metadata": {},
   "outputs": [
    {
     "name": "stdin",
     "output_type": "stream",
     "text": [
      "enter num1: 34\n",
      "enter num2: 56\n"
     ]
    },
    {
     "name": "stdout",
     "output_type": "stream",
     "text": [
      "minimum of 34 and 56 is 34\n"
     ]
    }
   ],
   "source": [
    "#6.\tMinimum of two numbers in Python\n",
    "a = int(input(\"enter num1:\"))\n",
    "b = int(input(\"enter num2:\"))\n",
    "if a > b:\n",
    "    print(\"minimum of\", a ,\"and\", b, \"is\", b)\n",
    "elif(a<b):\n",
    "    print(\"minimum of\", a ,\"and\", b, \"is\", a)\n",
    "else:\n",
    "    print(\"both  are same\")\n"
   ]
  },
  {
   "cell_type": "code",
   "execution_count": 23,
   "id": "6c46ad72-2416-4495-bd90-2641e7be3118",
   "metadata": {},
   "outputs": [
    {
     "name": "stdout",
     "output_type": "stream",
     "text": [
      "element exist!\n"
     ]
    }
   ],
   "source": [
    "#7.\tPython | Ways to check if element exists in list\n",
    "game = [\"bgmi\",\"valorant\",\"cod\",\"fortnite\",\"gta\",\"mafia\"]\n",
    "for element in game:\n",
    "    if element == \"cod\":\n",
    "        print(\"element exist!\")\n",
    "        break\n"
   ]
  },
  {
   "cell_type": "code",
   "execution_count": 7,
   "id": "b9ac1a47-5346-4a9c-8144-4da61602011a",
   "metadata": {},
   "outputs": [
    {
     "name": "stdout",
     "output_type": "stream",
     "text": [
      "[]\n"
     ]
    }
   ],
   "source": [
    "#8.\tDifferent ways to clear a list in Python.\\\n",
    "movies = [\"ironman\",\"avtar\",\"thor love and thunder\",\"openhimer\",\"extraction\"]\n",
    "movies.clear()\n",
    "print(movies)"
   ]
  },
  {
   "cell_type": "code",
   "execution_count": 11,
   "id": "ea69c2a9-3801-4d0a-b133-a516075334e3",
   "metadata": {},
   "outputs": [
    {
     "name": "stdout",
     "output_type": "stream",
     "text": [
      "['mafia', 'gta', 'fortnite', 'cod', 'valorant', 'bgmi']\n"
     ]
    }
   ],
   "source": [
    "#9.\tPython | Reversing a List.\n",
    "game = [\"bgmi\",\"valorant\",\"cod\",\"fortnite\",\"gta\",\"mafia\"]\n",
    "game.reverse()\n",
    "print(game)"
   ]
  },
  {
   "cell_type": "code",
   "execution_count": 13,
   "id": "e5b14429-f87c-4d9b-bd87-1ed17ff027f9",
   "metadata": {},
   "outputs": [
    {
     "name": "stdout",
     "output_type": "stream",
     "text": [
      "['mafia', 'gta', 'fortnite', 'cod', 'valorant', 'bgmi']\n"
     ]
    }
   ],
   "source": [
    "#10.Python | Cloning or Copying a list.\n",
    "battleground = game.copy()\n",
    "print(battleground)\n",
    "\n"
   ]
  },
  {
   "cell_type": "code",
   "execution_count": 19,
   "id": "fd4bdd89-4aeb-4d9d-a30d-676b6f40457b",
   "metadata": {},
   "outputs": [
    {
     "data": {
      "text/plain": [
       "6"
      ]
     },
     "execution_count": 19,
     "metadata": {},
     "output_type": "execute_result"
    }
   ],
   "source": [
    "#11.Python | Count occurrences of an element in a list.\n",
    "game = [\"bgmi\",\"valorant\",\"cod\",\"fortnite\",\"gta\",\"mafia\"]\n",
    "len(game)"
   ]
  },
  {
   "cell_type": "code",
   "execution_count": 27,
   "id": "f7593929-3e77-4a8e-866d-39971688f8ca",
   "metadata": {},
   "outputs": [
    {
     "name": "stdout",
     "output_type": "stream",
     "text": [
      "sum of list: 55\n"
     ]
    }
   ],
   "source": [
    "#12.Python Program to find sum and average of List in Python\n",
    "#SUM\n",
    "numb = [1,2,3,4,5,6,7,8,9,10]\n",
    "b=sum(numb)\n",
    "print(\"sum of list:\",b)"
   ]
  },
  {
   "cell_type": "code",
   "execution_count": 25,
   "id": "71e3b43b-9c06-44c3-9d6c-e0fbbe33e988",
   "metadata": {},
   "outputs": [
    {
     "name": "stdout",
     "output_type": "stream",
     "text": [
      "average of list 5.5\n"
     ]
    }
   ],
   "source": [
    "#average\n",
    "numb = [1,2,3,4,5,6,7,8,9,10]\n",
    "n = sum(numb)/len(numb)\n",
    "print(\"average of list\",n)"
   ]
  },
  {
   "cell_type": "code",
   "execution_count": 5,
   "id": "48f5478c-0397-4227-96d6-376745dd4770",
   "metadata": {},
   "outputs": [
    {
     "data": {
      "text/plain": [
       "26"
      ]
     },
     "execution_count": 5,
     "metadata": {},
     "output_type": "execute_result"
    }
   ],
   "source": [
    "#13.Python | Sum of number digits in List.\n",
    "numb = [1,2,3,5,6,3,6]\n",
    "def sum_numbers(n):\n",
    "    return sum(n)\n",
    "\n",
    "sum_numbers(numb)"
   ]
  },
  {
   "cell_type": "code",
   "execution_count": 33,
   "id": "2f1dc25f-e50c-4db6-bcfe-16ffc375fd4b",
   "metadata": {},
   "outputs": [
    {
     "name": "stdout",
     "output_type": "stream",
     "text": [
      "3628800\n"
     ]
    }
   ],
   "source": [
    "#14.Python | Multiply all numbers in the list.\n",
    "numbers = [1,2,3,4,5,6,7,8,9,10]\n",
    "mul = 1\n",
    "for numb in numbers:\n",
    "    mul*=numb\n",
    "print(mul)"
   ]
  },
  {
   "cell_type": "code",
   "execution_count": 61,
   "id": "b234766b-34f3-4047-8de4-22e7d4730159",
   "metadata": {},
   "outputs": [
    {
     "name": "stdout",
     "output_type": "stream",
     "text": [
      "smallest no. in the list: 23\n"
     ]
    }
   ],
   "source": [
    "#15.Python program to find smallest number in a list\n",
    "num = [55,54,74,29,46,87,64,90,58,23]\n",
    "smallest_no = min(num)\n",
    "print(\"smallest no. in the list:\",smallest_no)"
   ]
  },
  {
   "cell_type": "code",
   "execution_count": 57,
   "id": "a302cf02-719b-48ec-ada0-2a04b4216e30",
   "metadata": {},
   "outputs": [
    {
     "name": "stdout",
     "output_type": "stream",
     "text": [
      "largesr no. in the list : 90\n"
     ]
    }
   ],
   "source": [
    "#16.Python program to find largest number in a list.\n",
    "num = [55,54,74,29,46,87,64,90,58,23]\n",
    "max_no = max(num)\n",
    "print(\"largesr no. in the list :\",max_no)"
   ]
  },
  {
   "cell_type": "code",
   "execution_count": 27,
   "id": "b6abbfe2-b3e8-4b3b-bad6-ba0f39d139cf",
   "metadata": {},
   "outputs": [
    {
     "name": "stdout",
     "output_type": "stream",
     "text": [
      "the second largest number in the list is: 87\n"
     ]
    }
   ],
   "source": [
    "#17.Python program to find second largest number in a list\n",
    "num = [55,54,74,29,46,87,64,90,58,23]\n",
    "num.sort(reverse=True)\n",
    "second_largest = num[1]\n",
    "print(\"the second largest number in the list is:\", second_largest)"
   ]
  },
  {
   "cell_type": "code",
   "execution_count": 55,
   "id": "6963ff76-bebc-4e32-8668-178df0b6cb9e",
   "metadata": {},
   "outputs": [
    {
     "name": "stdout",
     "output_type": "stream",
     "text": [
      "54 is an even no.\n",
      "74 is an even no.\n",
      "46 is an even no.\n",
      "64 is an even no.\n",
      "90 is an even no.\n",
      "58 is an even no.\n"
     ]
    }
   ],
   "source": [
    "#18.Python program to print even numbers in a list add 20.Python program to print all even numbers in a range\n",
    "numbers = [55,54,74,29,46,87,64,90,58,23]\n",
    "for i in numbers:\n",
    "    if (i%2==0):\n",
    "        print(i,\"is an even no.\")\n",
    "    "
   ]
  },
  {
   "cell_type": "code",
   "execution_count": 57,
   "id": "2818d94f-e9d3-463f-95cc-61ad2d855420",
   "metadata": {},
   "outputs": [
    {
     "name": "stdout",
     "output_type": "stream",
     "text": [
      "55 is an even no.\n",
      "29 is an even no.\n",
      "87 is an even no.\n",
      "23 is an even no.\n"
     ]
    }
   ],
   "source": [
    "#19.Python program to print odd numbers in a List and 21.Python program to print all odd numbers in a range\n",
    "numbers = [55,54,74,29,46,87,64,90,58,23]\n",
    "for i in numbers:\n",
    "    if (i%2!=0):\n",
    "        print(i,\"is an odd no.\")"
   ]
  },
  {
   "cell_type": "code",
   "execution_count": 15,
   "id": "9839e1d8-4fbd-4f94-a408-7d3604a2295d",
   "metadata": {},
   "outputs": [
    {
     "name": "stdout",
     "output_type": "stream",
     "text": [
      "even numbers count: 6\n",
      "odd numbers count: 4\n"
     ]
    }
   ],
   "source": [
    "#22.Python program to count Even and Odd numbers in a List\n",
    "numbers = [55,54,74,29,46,87,64,90,58,23]\n",
    "even = 0\n",
    "odd = 0\n",
    "for num in numbers:\n",
    "    if (num%2==0):\n",
    "        even+=1\n",
    "    else:\n",
    "        odd+=1\n",
    "print(\"even numbers count:\",even)\n",
    "print(\"odd numbers count:\",odd)"
   ]
  },
  {
   "cell_type": "code",
   "execution_count": 1,
   "id": "e4b620b8-bc74-4aed-b973-db16b1dfd47c",
   "metadata": {},
   "outputs": [
    {
     "name": "stdout",
     "output_type": "stream",
     "text": [
      "55 is a positive numbers in the list:\n",
      "54 is a positive numbers in the list:\n",
      "29 is a positive numbers in the list:\n",
      "46 is a positive numbers in the list:\n",
      "64 is a positive numbers in the list:\n",
      "90 is a positive numbers in the list:\n",
      "23 is a positive numbers in the list:\n"
     ]
    }
   ],
   "source": [
    "#23.Python program to print positive numbers in a list and 25.Python program to print all positive numbers in a range\n",
    "numbers = [55,54,-74,29,46,-87,64,90,-58,23]\n",
    "for num in numbers:\n",
    "    if (num>=1):\n",
    "        print(num,\"is a positive numbers in the list:\")\n",
    "\n"
   ]
  },
  {
   "cell_type": "code",
   "execution_count": 3,
   "id": "bf0585c4-fd59-4a4d-a65e-a11f0d572d26",
   "metadata": {},
   "outputs": [
    {
     "name": "stdout",
     "output_type": "stream",
     "text": [
      "-74 is a neagative number in a list:\n",
      "-87 is a neagative number in a list:\n",
      "-58 is a neagative number in a list:\n"
     ]
    }
   ],
   "source": [
    "#24.Python program to print negative numbers in a list and 26.Python program to print all negative numbers in a range\n",
    "numbers = [55,54,-74,29,46,-87,64,90,-58,23]\n",
    "for num in numbers:\n",
    "    if (num<=0):\n",
    "        print(num,\"is a neagative number in a list:\")"
   ]
  },
  {
   "cell_type": "code",
   "execution_count": 7,
   "id": "1169b157-fc41-46f5-8e8a-582646cabd3a",
   "metadata": {},
   "outputs": [
    {
     "name": "stdout",
     "output_type": "stream",
     "text": [
      "positive number count: 7\n",
      "negative number count: 3\n"
     ]
    }
   ],
   "source": [
    "#27.Python program to count positive and negative numbers in a list\n",
    "numbers = [55,54,-74,29,46,-87,64,90,-58,23]\n",
    "positive_no = 0\n",
    "negative_no = 0\n",
    "for num in numbers:\n",
    "    if num>0:\n",
    "        positive_no +=1\n",
    "    elif num<0:\n",
    "        negative_no +=1\n",
    "\n",
    "print(\"positive number count:\",positive_no)\n",
    "print(\"negative number count:\",negative_no)\n"
   ]
  },
  {
   "cell_type": "code",
   "execution_count": 25,
   "id": "1e161cf5-b536-406c-b058-74a3688dccad",
   "metadata": {},
   "outputs": [
    {
     "name": "stdout",
     "output_type": "stream",
     "text": [
      "[20, 30, 50, 60, 70, 90]\n"
     ]
    }
   ],
   "source": [
    "#28.Remove multiple elements from a list in Python\n",
    "number = [10, 20, 30, 40, 50, 60, 70,80,90]\n",
    "remove = [10,40,80]\n",
    "filter_list= []\n",
    "for item in number:\n",
    "    if item not in remove:\n",
    "        filter_list.append(item)\n",
    "\n",
    "print(filter_list)\n",
    "    "
   ]
  },
  {
   "cell_type": "code",
   "execution_count": 5,
   "id": "87591b41-b9e6-45af-ba96-4d90f6364a53",
   "metadata": {},
   "outputs": [
    {
     "name": "stdout",
     "output_type": "stream",
     "text": [
      "[(1, 2), (3, 4), (5,)]\n"
     ]
    }
   ],
   "source": [
    "#29.Python | Remove empty tuples from a list\n",
    "a = [(1, 2), (), (3, 4), (), (5,)]\n",
    "res = list(filter(None, a))\n",
    "print(res)"
   ]
  },
  {
   "cell_type": "code",
   "execution_count": 27,
   "id": "c4911cfd-65a9-4ac0-a136-ec732de3dddd",
   "metadata": {},
   "outputs": [
    {
     "name": "stdout",
     "output_type": "stream",
     "text": [
      "[2, 3, 7]\n"
     ]
    }
   ],
   "source": [
    "#30.Python | Program to print duplicates from a list of integers\n",
    "lst = [2,3,2,7,3,55,7,9,3,2,3]\n",
    "duplicate = []\n",
    "\n",
    "for num in lst:\n",
    "    if lst.count(num) > 1 and num not in duplicate:\n",
    "        duplicate.append(num)\n",
    "\n",
    "print(duplicate)\n",
    "\n",
    "\n",
    "\n",
    "\n"
   ]
  },
  {
   "cell_type": "code",
   "execution_count": null,
   "id": "8ef37c48-3f9a-4cca-9c2b-5687dba4efe8",
   "metadata": {},
   "outputs": [],
   "source": []
  }
 ],
 "metadata": {
  "kernelspec": {
   "display_name": "Python [conda env:base] *",
   "language": "python",
   "name": "conda-base-py"
  },
  "language_info": {
   "codemirror_mode": {
    "name": "ipython",
    "version": 3
   },
   "file_extension": ".py",
   "mimetype": "text/x-python",
   "name": "python",
   "nbconvert_exporter": "python",
   "pygments_lexer": "ipython3",
   "version": "3.12.7"
  }
 },
 "nbformat": 4,
 "nbformat_minor": 5
}
